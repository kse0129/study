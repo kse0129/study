{
 "cells": [
  {
   "cell_type": "markdown",
   "id": "a3ce4c28-4558-48b8-8cbc-45b091db29d7",
   "metadata": {},
   "source": [
    "# 선형 회귀"
   ]
  },
  {
   "cell_type": "markdown",
   "id": "2228981a-9353-4647-abb3-3ad25a287521",
   "metadata": {},
   "source": [
    "## 데이터"
   ]
  },
  {
   "cell_type": "markdown",
   "id": "9e051cb1-1446-4e95-a97e-02ea098ad96b",
   "metadata": {},
   "source": [
    "train data와 test data\n",
    "- train data: 예측을 위해 학습에 사용하는 데이터셋\n",
    "- test data: 학습 완료 후 모델을 판별하기 위한 데이터셋\n",
    "\n",
    "모델을 학습하는 데 사용하는 데이터는 pytorch의 텐서 형태여야 합니다"
   ]
  },
  {
   "cell_type": "markdown",
   "id": "ad61459f-9bed-4090-b6b3-ef3a825f0cd2",
   "metadata": {},
   "source": [
    "## 가설"
   ]
  },
  {
   "cell_type": "code",
   "execution_count": null,
   "id": "6f565bd4-776a-4f46-92ff-1f3fd9b237d1",
   "metadata": {},
   "outputs": [],
   "source": []
  }
 ],
 "metadata": {
  "kernelspec": {
   "display_name": "Python 3 (ipykernel)",
   "language": "python",
   "name": "python3"
  },
  "language_info": {
   "codemirror_mode": {
    "name": "ipython",
    "version": 3
   },
   "file_extension": ".py",
   "mimetype": "text/x-python",
   "name": "python",
   "nbconvert_exporter": "python",
   "pygments_lexer": "ipython3",
   "version": "3.9.13"
  },
  "toc-autonumbering": true,
  "toc-showmarkdowntxt": false
 },
 "nbformat": 4,
 "nbformat_minor": 5
}
