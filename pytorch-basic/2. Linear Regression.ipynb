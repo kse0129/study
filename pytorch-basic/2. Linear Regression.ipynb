{
 "cells": [
  {
   "cell_type": "markdown",
   "id": "a3ce4c28-4558-48b8-8cbc-45b091db29d7",
   "metadata": {},
   "source": [
    "# 선형 회귀"
   ]
  },
  {
   "cell_type": "markdown",
   "id": "2228981a-9353-4647-abb3-3ad25a287521",
   "metadata": {},
   "source": [
    "## 데이터"
   ]
  },
  {
   "cell_type": "markdown",
   "id": "9e051cb1-1446-4e95-a97e-02ea098ad96b",
   "metadata": {},
   "source": [
    "train data와 test data\n",
    "- train data: 예측을 위해 학습에 사용하는 데이터셋\n",
    "- test data: 학습 완료 후 모델을 판별하기 위한 데이터셋\n",
    "\n",
    "모델을 학습하는 데 사용하는 데이터는 pytorch의 텐서 형태여야 합니다"
   ]
  },
  {
   "cell_type": "markdown",
   "id": "ad61459f-9bed-4090-b6b3-ef3a825f0cd2",
   "metadata": {},
   "source": [
    "## 가설"
   ]
  },
  {
   "cell_type": "markdown",
   "id": "9ea94449-75e2-47ff-8608-cd9afbce6a43",
   "metadata": {},
   "source": [
    "머신러닝에서 임의로 추측해서 세워보거나 경험적으로 알고있는 식을 가설이라고 하고 이 가설이 틀리다고 판단되면 계속 수정해나간다\n",
    "\n",
    "선형 회귀의 가설:\n",
    "$y = Wx + b$\n",
    "\n",
    "- 이 때, $W$를 가중치, $b$를 편향이라고 함\n"
   ]
  },
  {
   "cell_type": "markdown",
   "id": "00033c09-294a-457d-9c49-f2362bc0c921",
   "metadata": {},
   "source": [
    "## 비용 함수"
   ]
  },
  {
   "cell_type": "markdown",
   "id": "81d41cbc-c3e2-4e6a-b90d-807c7c04f5fc",
   "metadata": {},
   "source": [
    "아래의 용어는 전부 같다\n",
    "- **비용 함수(cost function)**\n",
    "- **손실 함수(loss function)**\n",
    "- 오차 함수(error function)\n",
    "- 목적 함수(objective function)"
   ]
  },
  {
   "cell_type": "markdown",
   "id": "650e263c-5b03-48be-ae65-7199515a735d",
   "metadata": {},
   "source": [
    "2차원 훈련 데이터들이 있고 이 데이터들을 가장 잘 표현하는 직선을 그리는 것이 목표라고 하면 직선과 데이터들의 차이가 생긴다.\n",
    "이를 오차라고 한다"
   ]
  },
  {
   "cell_type": "markdown",
   "id": "60463269-8158-472c-b190-b7e080ae81ae",
   "metadata": {},
   "source": [
    "모든 훈련 데이터에 대해서 오차를 구하고 총 오차를 구하는 방법으로 모든 오차를 합하는 방법을 채택한다고 가정한다\n",
    "\n",
    "|실제값|예측값|오차|\n",
    "|--|--|--|\n",
    "|25|27|-2|\n",
    "|50|40|10|\n",
    "|42|53|-9|\n",
    "|61|66|-5|\n",
    "\n",
    "모든 오차를 더하면 음수와 양수의 값이 모두 존재하기 때문에 모든 오차가 포함되지 않게 된다.\n",
    "따라서 오차값을 모두 제곱하고 더하는 방법으로 오차를 구할 수 있는데 이를 평균 제곱 오차(Mean Squared Error, MSE)라고 한다.\n",
    "이를 함수로 정의해서 값을 최소가 되도록 하는 W와 b를 구하는 과정을 훈련이라고 한다"
   ]
  },
  {
   "cell_type": "markdown",
   "id": "3ba36f52-4896-4e87-a48a-d25f07e0163a",
   "metadata": {},
   "source": [
    "## 옵티마이저\n",
    "\n",
    "- 경사하강법"
   ]
  },
  {
   "cell_type": "markdown",
   "id": "e84637d9-ff7e-4ff1-9355-6141fce55862",
   "metadata": {},
   "source": [
    "비용 함수의 최솟값을 구하는 데 사용되는 것이 옵티마이저(Optimizer) 알고리즘이다. 최적화 알고리즘이라고도 불리는데 이 알고리즘을 통해 W와 b를 찾아내는 과정을 학습이라고 한다. 가장 기본적인 최적화 알고리즘으로 경사 하강법(Gradient Descent)이 있다."
   ]
  },
  {
   "attachments": {
    "image.png": {
     "image/png": "[encoded data removed]"
    }
   },
   "cell_type": "markdown",
   "id": "e0c010ec",
   "metadata": {},
   "source": [
    "![image.png](attachment:image.png)"
   ]
  },
  {
   "cell_type": "markdown",
   "id": "3b39a2ad-a5a8-4934-bc55-1fe6175444cf",
   "metadata": {},
   "source": [
    "위에서 정의했던 가중치 $W$는 직선에서 기울기라고도 할 수 있다. 이 기울기가 커지거나 작아질수록 cost값은 계속 커진다."
   ]
  },
  {
   "attachments": {
    "image.png": {
     "image/png": "[encoded data removed]"
    }
   },
   "cell_type": "markdown",
   "id": "619b943c",
   "metadata": {},
   "source": [
    "![image.png](attachment:image.png)"
   ]
  },
  {
   "cell_type": "markdown",
   "id": "96079506",
   "metadata": {
    "ExecuteTime": {
     "end_time": "2023-03-31T00:50:43.385203Z",
     "start_time": "2023-03-31T00:50:43.356061Z"
    }
   },
   "source": [
    "따라서 cost 값이 가장 작은 점을 찾기 위해서 접선의 기울기가 0인 지점을 계속해서 찾아간다. 기울기가 갱신되는 공식은 다음과 같다."
   ]
  },
  {
   "cell_type": "markdown",
   "id": "9585ed2a",
   "metadata": {
    "ExecuteTime": {
     "end_time": "2023-03-31T00:57:37.418935Z",
     "start_time": "2023-03-31T00:57:37.408524Z"
    }
   },
   "source": [
    "$$W := W - \\alpha \\times (기울기)$$"
   ]
  },
  {
   "cell_type": "markdown",
   "id": "ae1f6f6d",
   "metadata": {},
   "source": [
    "- 기울기가 음수일 때\n",
    "\n",
    "위의 그래프에서 접선의 기울기가 0인 지점의 왼쪽에 존재하므로 W의 값이 증가해야한다.\n",
    "\n",
    "- 기울기가 양수일 때\n",
    "\n",
    "위의 그래프에서 접선의 기울기가 0인 지점의 오른쪽에 존재하므로 W의 값이 감소해야한다."
   ]
  },
  {
   "cell_type": "markdown",
   "id": "2560d024",
   "metadata": {},
   "source": [
    "$$W := W - α\\frac{∂}{∂W}cost(W)$$"
   ]
  },
  {
   "cell_type": "markdown",
   "id": "b20d3220",
   "metadata": {},
   "source": [
    "기울기는 cost를 미분한 것과 같으므로 W를 갱신하는 공식은 위와 같이 표현할 수 있다. 이 때 α는 W를 얼마나 변경할지를 결정하는 값으로 **학습률**이라고 한다.\n",
    "\n",
    "학습률의 값을 조정해줄 때 너무 큰 값을 지정하면 W가 수렴하지 않고 발산하게 되고 너무 작은 값을 지정하면 학습 시간이 오래 걸린다. "
   ]
  },
  {
   "cell_type": "markdown",
   "id": "e409faff",
   "metadata": {},
   "source": [
    "## 파이토치로 선형 회귀 구현"
   ]
  },
  {
   "cell_type": "markdown",
   "id": "723454a1",
   "metadata": {
    "ExecuteTime": {
     "end_time": "2023-03-31T02:17:17.954013Z",
     "start_time": "2023-03-31T02:17:17.941710Z"
    }
   },
   "source": [
    "### 모듈 로드 및 기본 설정"
   ]
  },
  {
   "cell_type": "code",
   "execution_count": 5,
   "id": "df9ea01c",
   "metadata": {
    "ExecuteTime": {
     "end_time": "2023-03-31T04:12:39.829342Z",
     "start_time": "2023-03-31T04:12:39.815041Z"
    }
   },
   "outputs": [],
   "source": [
    "import torch\n",
    "import torch.nn as nn\n",
    "import torch.nn.functional as F\n",
    "import torch.optim as optim"
   ]
  },
  {
   "cell_type": "code",
   "execution_count": 6,
   "id": "bbd77846",
   "metadata": {
    "ExecuteTime": {
     "end_time": "2023-03-31T02:03:24.410926Z",
     "start_time": "2023-03-31T02:03:24.366436Z"
    }
   },
   "outputs": [
    {
     "data": {
      "text/plain": [
       "<torch._C.Generator at 0x23db17da950>"
      ]
     },
     "execution_count": 6,
     "metadata": {},
     "output_type": "execute_result"
    }
   ],
   "source": [
    "# 랜덤 시드값 지정\n",
    "torch.manual_seed(1)"
   ]
  },
  {
   "cell_type": "markdown",
   "id": "e43ffaf0",
   "metadata": {},
   "source": [
    "### 변수 선언"
   ]
  },
  {
   "cell_type": "code",
   "execution_count": 7,
   "id": "83dd51f5",
   "metadata": {
    "ExecuteTime": {
     "end_time": "2023-03-31T02:04:28.902449Z",
     "start_time": "2023-03-31T02:04:28.813758Z"
    }
   },
   "outputs": [
    {
     "name": "stdout",
     "output_type": "stream",
     "text": [
      "tensor([[1.],\n",
      "        [2.],\n",
      "        [3.]])\n",
      "torch.Size([3, 1])\n"
     ]
    }
   ],
   "source": [
    "x_train = torch.FloatTensor([[1], [2], [3]])\n",
    "y_train = torch.FloatTensor([[2], [4], [6]])\n",
    "\n",
    "print(x_train)\n",
    "print(x_train.shape)"
   ]
  },
  {
   "cell_type": "markdown",
   "id": "8922d35c",
   "metadata": {},
   "source": [
    "### 가중치와 편향 초기화"
   ]
  },
  {
   "cell_type": "code",
   "execution_count": 8,
   "id": "246c93c1",
   "metadata": {
    "ExecuteTime": {
     "end_time": "2023-03-31T04:19:45.998345Z",
     "start_time": "2023-03-31T04:19:45.988763Z"
    }
   },
   "outputs": [],
   "source": [
    "# requires_grad=True: 이 변수는 학습을 통해 값이 변경된다\n",
    "W = torch.zeros(1, requires_grad=True)"
   ]
  },
  {
   "cell_type": "code",
   "execution_count": 9,
   "id": "dbb7787e",
   "metadata": {
    "ExecuteTime": {
     "end_time": "2023-03-31T04:19:46.133932Z",
     "start_time": "2023-03-31T04:19:46.124507Z"
    }
   },
   "outputs": [
    {
     "data": {
      "text/plain": [
       "tensor([0.], requires_grad=True)"
      ]
     },
     "execution_count": 9,
     "metadata": {},
     "output_type": "execute_result"
    }
   ],
   "source": [
    "W"
   ]
  },
  {
   "cell_type": "code",
   "execution_count": 10,
   "id": "e99e6be8",
   "metadata": {
    "ExecuteTime": {
     "end_time": "2023-03-31T04:19:46.431061Z",
     "start_time": "2023-03-31T04:19:46.421267Z"
    }
   },
   "outputs": [],
   "source": [
    "b = torch.zeros(1, requires_grad=True)"
   ]
  },
  {
   "cell_type": "code",
   "execution_count": 11,
   "id": "4c3077e7",
   "metadata": {
    "ExecuteTime": {
     "end_time": "2023-03-31T04:19:47.048245Z",
     "start_time": "2023-03-31T04:19:47.037147Z"
    }
   },
   "outputs": [
    {
     "data": {
      "text/plain": [
       "tensor([0.], requires_grad=True)"
      ]
     },
     "execution_count": 11,
     "metadata": {},
     "output_type": "execute_result"
    }
   ],
   "source": [
    "b"
   ]
  },
  {
   "cell_type": "markdown",
   "id": "a1557d95",
   "metadata": {},
   "source": [
    "### 가설 설정"
   ]
  },
  {
   "cell_type": "code",
   "execution_count": 12,
   "id": "b9dde47e",
   "metadata": {
    "ExecuteTime": {
     "end_time": "2023-03-31T04:19:47.864761Z",
     "start_time": "2023-03-31T04:19:47.855683Z"
    }
   },
   "outputs": [
    {
     "name": "stdout",
     "output_type": "stream",
     "text": [
      "tensor([[0.],\n",
      "        [0.],\n",
      "        [0.]], grad_fn=<AddBackward0>)\n"
     ]
    }
   ],
   "source": [
    "hypothesis = x_train * W + b\n",
    "print(hypothesis)"
   ]
  },
  {
   "cell_type": "markdown",
   "id": "e0a8457d",
   "metadata": {},
   "source": [
    "### 비용 함수 선언"
   ]
  },
  {
   "cell_type": "code",
   "execution_count": 13,
   "id": "c1fd4ac2",
   "metadata": {
    "ExecuteTime": {
     "end_time": "2023-03-31T04:19:48.711945Z",
     "start_time": "2023-03-31T04:19:48.700177Z"
    }
   },
   "outputs": [
    {
     "name": "stdout",
     "output_type": "stream",
     "text": [
      "tensor(18.6667, grad_fn=<MeanBackward0>)\n"
     ]
    }
   ],
   "source": [
    "cost = torch.mean((hypothesis - y_train) ** 2)\n",
    "print(cost)"
   ]
  },
  {
   "cell_type": "markdown",
   "id": "2d3b21b7",
   "metadata": {},
   "source": [
    "### 경사 하강법 구현"
   ]
  },
  {
   "cell_type": "code",
   "execution_count": 14,
   "id": "406c2120",
   "metadata": {
    "ExecuteTime": {
     "end_time": "2023-03-31T04:19:49.580807Z",
     "start_time": "2023-03-31T04:19:49.570897Z"
    }
   },
   "outputs": [],
   "source": [
    "optimizer = optim.SGD([W, b], lr=0.01)"
   ]
  },
  {
   "cell_type": "code",
   "execution_count": 15,
   "id": "33f3f000",
   "metadata": {
    "ExecuteTime": {
     "end_time": "2023-03-31T04:19:49.946158Z",
     "start_time": "2023-03-31T04:19:49.924828Z"
    }
   },
   "outputs": [],
   "source": [
    "# gradient를 0으로 초기화\n",
    "optimizer.zero_grad()\n",
    "# 비용 함수를 미분하여 gradient 계산\n",
    "cost.backward()\n",
    "# W와 b를 업데이트\n",
    "optimizer.step()"
   ]
  },
  {
   "cell_type": "markdown",
   "id": "0b7441b6",
   "metadata": {
    "ExecuteTime": {
     "end_time": "2023-03-31T04:14:58.945369Z",
     "start_time": "2023-03-31T04:14:58.933950Z"
    }
   },
   "source": [
    "optimizer.zero_grad()를 실행하여 미분을 통해 얻은 기울기를 0으로 초기화.\n",
    "그 다음 cost.backward() 함수를 호출하면 가중치 W와 편향 b에 대한 기울기가 계산된다. 그 다음 optimizer.step() 함수를 호출해서 인수로 들어갔던 W와 b에서 리턴되는 변수들의 기울기에 학습률(0.01)을 적용하여 업데이트한다"
   ]
  },
  {
   "cell_type": "code",
   "execution_count": 16,
   "id": "358a28dd",
   "metadata": {
    "ExecuteTime": {
     "end_time": "2023-03-31T04:19:50.845172Z",
     "start_time": "2023-03-31T04:19:50.822172Z"
    },
    "scrolled": true
   },
   "outputs": [
    {
     "data": {
      "text/plain": [
       "(tensor([0.1867], requires_grad=True), tensor([0.0800], requires_grad=True))"
      ]
     },
     "execution_count": 16,
     "metadata": {},
     "output_type": "execute_result"
    }
   ],
   "source": [
    "W, b"
   ]
  },
  {
   "cell_type": "code",
   "execution_count": 17,
   "id": "64087692",
   "metadata": {
    "ExecuteTime": {
     "end_time": "2023-03-31T04:55:05.673121Z",
     "start_time": "2023-03-31T04:55:05.665544Z"
    }
   },
   "outputs": [
    {
     "name": "stdout",
     "output_type": "stream",
     "text": [
      "epoch: 100/1000 | W: 1.7450770139694214 | b: 0.5794646143913269 | cost: 0.048402994871139526\n",
      "epoch: 200/1000 | W: 1.7996175289154053 | b: 0.455516517162323 | cost: 0.029910147190093994\n",
      "epoch: 300/1000 | W: 1.842481017112732 | b: 0.3580775856971741 | cost: 0.018482649698853493\n",
      "epoch: 400/1000 | W: 1.8761756420135498 | b: 0.28148165345191956 | cost: 0.011421176604926586\n",
      "epoch: 500/1000 | W: 1.9026631116867065 | b: 0.22126996517181396 | cost: 0.007057555019855499\n",
      "epoch: 600/1000 | W: 1.9234843254089355 | b: 0.17393818497657776 | cost: 0.004361126106232405\n",
      "epoch: 700/1000 | W: 1.9398518800735474 | b: 0.13673122227191925 | cost: 0.0026949176099151373\n",
      "epoch: 800/1000 | W: 1.952717900276184 | b: 0.10748318582773209 | cost: 0.0016652889316901565\n",
      "epoch: 900/1000 | W: 1.962831974029541 | b: 0.08449170738458633 | cost: 0.0010290463687852025\n",
      "epoch: 1000/1000 | W: 1.9707825183868408 | b: 0.06641823798418045 | cost: 0.0006358931423164904\n"
     ]
    }
   ],
   "source": [
    "x_train = torch.FloatTensor([[1], [2], [3]])\n",
    "y_train = torch.FloatTensor([[2], [4], [6]])\n",
    "\n",
    "EPOCHS = 1000\n",
    "LEARNING_RATE = 1e-2\n",
    "\n",
    "W = torch.zeros(1, requires_grad=True)\n",
    "b = torch.zeros(1, requires_grad=True)\n",
    "\n",
    "optimizer = optim.SGD([W, b], lr=LEARNING_RATE)\n",
    "\n",
    "for epoch in range(1, EPOCHS+1):\n",
    "    pred = (W * x_train) + b\n",
    "    cost = torch.mean((pred - y_train)**2)\n",
    "    \n",
    "    optimizer.zero_grad()\n",
    "    cost.backward()\n",
    "    optimizer.step()\n",
    "\n",
    "    if epoch%100==0:\n",
    "        print(f\"epoch: {epoch:3d}/{EPOCHS} | W: {W.item()} | b: {b.item()} | cost: {cost.item()}\")"
   ]
  },
  {
   "cell_type": "markdown",
   "id": "73fe7e97",
   "metadata": {},
   "source": [
    "epoch가 반복됨에 따라 최적의 W, b값을 찾아가고 있다."
   ]
  },
  {
   "cell_type": "markdown",
   "id": "b56b513f",
   "metadata": {},
   "source": [
    "## optimizer.zero_grad()"
   ]
  },
  {
   "cell_type": "markdown",
   "id": "1d55d5f0-a8d1-4dde-8df9-65c0731d09ba",
   "metadata": {},
   "source": [
    "파이토치는 미분을 통해 얻은 기울기를 이전에 계산된 기울기에 누적시키는 특징이 있다"
   ]
  },
  {
   "cell_type": "code",
   "execution_count": 20,
   "id": "b266d44c-fe95-457d-9e7c-7664eb5ca387",
   "metadata": {},
   "outputs": [
    {
     "name": "stdout",
     "output_type": "stream",
     "text": [
      "w로 미분한 값: 2.0\n",
      "w로 미분한 값: 4.0\n",
      "w로 미분한 값: 6.0\n",
      "w로 미분한 값: 8.0\n",
      "w로 미분한 값: 10.0\n",
      "w로 미분한 값: 12.0\n",
      "w로 미분한 값: 14.0\n",
      "w로 미분한 값: 16.0\n",
      "w로 미분한 값: 18.0\n",
      "w로 미분한 값: 20.0\n",
      "w로 미분한 값: 22.0\n",
      "w로 미분한 값: 24.0\n",
      "w로 미분한 값: 26.0\n",
      "w로 미분한 값: 28.0\n",
      "w로 미분한 값: 30.0\n",
      "w로 미분한 값: 32.0\n",
      "w로 미분한 값: 34.0\n",
      "w로 미분한 값: 36.0\n",
      "w로 미분한 값: 38.0\n",
      "w로 미분한 값: 40.0\n"
     ]
    }
   ],
   "source": [
    "import torch\n",
    "w = torch.tensor(2.0, requires_grad=True)\n",
    "\n",
    "EPOCHS = 20\n",
    "for epoch in range(1, EPOCHS+1):\n",
    "    z = 2*w\n",
    "    z.backward()\n",
    "    w.grad\n",
    "    print(f'w로 미분한 값: {w.grad}')"
   ]
  },
  {
   "cell_type": "markdown",
   "id": "90a78361-8c5c-48ac-b544-2d3e0e7c69f5",
   "metadata": {},
   "source": [
    "미분값(w.grad)인 2가 계속 누적되고 있다. 따라서 zero_grad() 함수를 통해 optimizer와 연결된 변수 w의 미분값을 0으로 초기화하고 backward를 통해 미분값을 계산한다."
   ]
  },
  {
   "cell_type": "code",
   "execution_count": 24,
   "id": "ce5bbd7b-3778-4d68-a8ec-bfb723349530",
   "metadata": {},
   "outputs": [
    {
     "name": "stdout",
     "output_type": "stream",
     "text": [
      "w로 미분한 값: 2.0\n",
      "w로 미분한 값: 2.0\n",
      "w로 미분한 값: 2.0\n",
      "w로 미분한 값: 2.0\n",
      "w로 미분한 값: 2.0\n",
      "w로 미분한 값: 2.0\n",
      "w로 미분한 값: 2.0\n",
      "w로 미분한 값: 2.0\n",
      "w로 미분한 값: 2.0\n",
      "w로 미분한 값: 2.0\n",
      "w로 미분한 값: 2.0\n",
      "w로 미분한 값: 2.0\n",
      "w로 미분한 값: 2.0\n",
      "w로 미분한 값: 2.0\n",
      "w로 미분한 값: 2.0\n",
      "w로 미분한 값: 2.0\n",
      "w로 미분한 값: 2.0\n",
      "w로 미분한 값: 2.0\n",
      "w로 미분한 값: 2.0\n",
      "w로 미분한 값: 2.0\n"
     ]
    }
   ],
   "source": [
    "import torch\n",
    "import torch.optim as optim\n",
    "\n",
    "w = torch.tensor(2.0, requires_grad=True)\n",
    "optimizer = optim.SGD([w], lr=0.01)\n",
    "EPOCHS = 20\n",
    "for epoch in range(1, EPOCHS+1):\n",
    "    z = 2*w\n",
    "    optimizer.zero_grad()\n",
    "    z.backward()\n",
    "    print(f'w로 미분한 값: {w.grad}')"
   ]
  },
  {
   "cell_type": "markdown",
   "id": "17bb4ed8-3028-407f-ac36-164b72d8bd13",
   "metadata": {},
   "source": [
    "# 자동 미분"
   ]
  },
  {
   "cell_type": "markdown",
   "id": "ff51c2b2",
   "metadata": {},
   "source": [
    "requires_grad=True 옵션과 backward 함수 등은 파이토치에서 제공하는 자동 미분을 수행하고 있는 것이다"
   ]
  },
  {
   "cell_type": "markdown",
   "id": "66b54895-788b-4605-93a1-05263ccda21e",
   "metadata": {},
   "source": [
    "## 경사하강법"
   ]
  },
  {
   "cell_type": "markdown",
   "id": "00d83286-20b9-4b49-ba4e-a9e78dd2dceb",
   "metadata": {},
   "source": [
    "모델이 복잡해질수록 경사 하강법을 numpy 등으로 직접 코딩하는 것은 어렵다. 파이토치에서는 이 때문에 자동 미분을 지원한다"
   ]
  },
  {
   "cell_type": "markdown",
   "id": "d68eba9c-26e3-4dd3-99f2-bf57e369762f",
   "metadata": {},
   "source": [
    "## 자동 미분 실습"
   ]
  },
  {
   "cell_type": "code",
   "execution_count": 26,
   "id": "c533477e-effc-46e4-90f8-99fe4f977308",
   "metadata": {},
   "outputs": [],
   "source": [
    "import torch"
   ]
  },
  {
   "cell_type": "code",
   "execution_count": 43,
   "id": "a450e163-f54e-466c-ad0b-06fbbca307a4",
   "metadata": {},
   "outputs": [],
   "source": [
    "w = torch.tensor(2.0, requires_grad=True)"
   ]
  },
  {
   "cell_type": "markdown",
   "id": "f5dd4c9b-dcc3-4367-a29b-20405ce619a5",
   "metadata": {},
   "source": [
    "requires_grad를 True로 설정하면 텐서에 대한 기울기를 저장하겠다는 의미이다. 이렇게 되면 w.grad에 w에 대한 미분값이 저장된다."
   ]
  },
  {
   "cell_type": "code",
   "execution_count": 52,
   "id": "f9f57ef8-7555-4664-b1c6-f1ff9bda46eb",
   "metadata": {},
   "outputs": [],
   "source": [
    "# 수식 정의\n",
    "y = w**2\n",
    "z = 2*y + 5"
   ]
  },
  {
   "cell_type": "code",
   "execution_count": 53,
   "id": "4bb21389-5060-4518-b1ab-7e04f5e5e1c6",
   "metadata": {},
   "outputs": [
    {
     "data": {
      "text/plain": [
       "tensor(13., grad_fn=<AddBackward0>)"
      ]
     },
     "execution_count": 53,
     "metadata": {},
     "output_type": "execute_result"
    }
   ],
   "source": [
    "z"
   ]
  },
  {
   "cell_type": "code",
   "execution_count": 54,
   "id": "14addfc3-06f1-47a3-9bf2-d1901871227c",
   "metadata": {},
   "outputs": [],
   "source": [
    "z.backward()"
   ]
  },
  {
   "cell_type": "code",
   "execution_count": 51,
   "id": "08e618f8-406e-4b57-821e-57f423d0ebee",
   "metadata": {},
   "outputs": [
    {
     "name": "stdout",
     "output_type": "stream",
     "text": [
      "w로 미분한 값: 8.0\n"
     ]
    }
   ],
   "source": [
    "print(f'w로 미분한 값: {w.grad}')"
   ]
  },
  {
   "cell_type": "markdown",
   "id": "c22dd43b-4963-4ba4-88c8-368e50c5d215",
   "metadata": {},
   "source": [
    "왜 8이 나올까?\n",
    "\n",
    "먼저 수식을 w에 대해 미분하면 변화도는 4w이다.\n",
    "w는 2라는 스칼라 값이므로 4*2 == 8이 된다."
   ]
  },
  {
   "cell_type": "markdown",
   "id": "f39b1959-01e2-436c-a585-a6592d92b1c7",
   "metadata": {},
   "source": [
    "# 다중 선형 회귀"
   ]
  },
  {
   "cell_type": "markdown",
   "id": "6bccaa33-e2e3-4f47-a935-f30f367339c6",
   "metadata": {},
   "source": [
    "## 데이터 구성"
   ]
  },
  {
   "cell_type": "markdown",
   "id": "1d4a6a86-bc69-4507-aa61-b2158492eb27",
   "metadata": {},
   "source": [
    "위의 단순 선형회귀와 다르게 독립변수 $x$가 1개가 아닌 2개 이상이다. 예를 들면 다음과 같은 수식이 다음과 같다.\n",
    "$$ H(x) = w_1x_1 + w_2x_2 + w_3x_3 + b $$"
   ]
  },
  {
   "cell_type": "markdown",
   "id": "33700b7b-8a68-473c-93dd-d972ecdaf98f",
   "metadata": {},
   "source": [
    "## 파이토치로 구현"
   ]
  },
  {
   "cell_type": "code",
   "execution_count": 1,
   "id": "2fbb0620-c2a8-4a22-b966-03c50174133f",
   "metadata": {},
   "outputs": [],
   "source": [
    "import torch\n",
    "import torch.nn as nn\n",
    "import torch.nn.functional as F\n",
    "import torch.optim as optim"
   ]
  },
  {
   "cell_type": "code",
   "execution_count": 2,
   "id": "aa75c514-9bde-41eb-b39a-ef9b50629d72",
   "metadata": {},
   "outputs": [
    {
     "data": {
      "text/plain": [
       "<torch._C.Generator at 0x2113bd34f70>"
      ]
     },
     "execution_count": 2,
     "metadata": {},
     "output_type": "execute_result"
    }
   ],
   "source": [
    "# 랜덤 시드 고정\n",
    "torch.manual_seed(1)"
   ]
  },
  {
   "cell_type": "markdown",
   "id": "eeb317db-e9f3-4425-861e-be194940cf14",
   "metadata": {},
   "source": [
    "훈련 데이터 선언"
   ]
  },
  {
   "cell_type": "code",
   "execution_count": 42,
   "id": "d50958ea-d06e-4e85-8b0a-9e08e546c1f0",
   "metadata": {},
   "outputs": [],
   "source": [
    "x1_train = torch.tensor([[73], [93], [89], [96], [73]])\n",
    "x2_train = torch.tensor([[80], [88], [91], [98], [66]])\n",
    "x3_train = torch.tensor([[75], [93], [80], [100], [70]])"
   ]
  },
  {
   "cell_type": "code",
   "execution_count": 43,
   "id": "3bb2ee5d-0572-4390-a71a-b2b4b384d685",
   "metadata": {},
   "outputs": [],
   "source": [
    "y_train = torch.tensor([[152], [185], [180], [196], [142]])"
   ]
  },
  {
   "cell_type": "markdown",
   "id": "a386a912-d7c2-48aa-9636-c2111760b78c",
   "metadata": {},
   "source": [
    "가중치 및 편향 초기화"
   ]
  },
  {
   "cell_type": "code",
   "execution_count": 44,
   "id": "7694770a-f7d2-4cb8-a6c1-2c38d6b76955",
   "metadata": {
    "tags": []
   },
   "outputs": [],
   "source": [
    "x1 = torch.zeros(1, requires_grad=True)\n",
    "x2 = torch.zeros(1, requires_grad=True)\n",
    "x3 = torch.zeros(1, requires_grad=True)\n",
    "b = torch.zeros(1, requires_grad=True)"
   ]
  },
  {
   "cell_type": "code",
   "execution_count": 45,
   "id": "f29d8a09-5e83-43fe-91ad-c1062101adf0",
   "metadata": {},
   "outputs": [],
   "source": [
    "optimizer = optim.SGD([x1, x2, x3, b], lr=1e-6)"
   ]
  },
  {
   "cell_type": "code",
   "execution_count": 64,
   "id": "d70868dd-b958-49b2-91f2-45ceedde4deb",
   "metadata": {
    "tags": []
   },
   "outputs": [
    {
     "name": "stdout",
     "output_type": "stream",
     "text": [
      "epoch:  100/3000 | cost: 5.281927585601807\n",
      "epoch:  200/3000 | cost: 5.281919956207275\n",
      "epoch:  300/3000 | cost: 5.281911849975586\n",
      "epoch:  400/3000 | cost: 5.281905174255371\n",
      "epoch:  500/3000 | cost: 5.281897068023682\n",
      "epoch:  600/3000 | cost: 5.281889915466309\n",
      "epoch:  700/3000 | cost: 5.281883239746094\n",
      "epoch:  800/3000 | cost: 5.281874656677246\n",
      "epoch:  900/3000 | cost: 5.281868934631348\n",
      "epoch: 1000/3000 | cost: 5.2818603515625\n",
      "epoch: 1100/3000 | cost: 5.281852722167969\n",
      "epoch: 1200/3000 | cost: 5.281846523284912\n",
      "epoch: 1300/3000 | cost: 5.281838417053223\n",
      "epoch: 1400/3000 | cost: 5.281832218170166\n",
      "epoch: 1500/3000 | cost: 5.281824588775635\n",
      "epoch: 1600/3000 | cost: 5.28181791305542\n",
      "epoch: 1700/3000 | cost: 5.281810283660889\n",
      "epoch: 1800/3000 | cost: 5.281804084777832\n",
      "epoch: 1900/3000 | cost: 5.281796455383301\n",
      "epoch: 2000/3000 | cost: 5.281789779663086\n",
      "epoch: 2100/3000 | cost: 5.281782150268555\n",
      "epoch: 2200/3000 | cost: 5.281775951385498\n",
      "epoch: 2300/3000 | cost: 5.281768321990967\n",
      "epoch: 2400/3000 | cost: 5.28176212310791\n",
      "epoch: 2500/3000 | cost: 5.2817559242248535\n",
      "epoch: 2600/3000 | cost: 5.281748294830322\n",
      "epoch: 2700/3000 | cost: 5.281742095947266\n",
      "epoch: 2800/3000 | cost: 5.281734466552734\n",
      "epoch: 2900/3000 | cost: 5.281728267669678\n",
      "epoch: 3000/3000 | cost: 5.281722068786621\n",
      "CPU times: total: 2 s\n",
      "Wall time: 2.33 s\n"
     ]
    }
   ],
   "source": [
    "%%time\n",
    "EPOCHS = 3000\n",
    "for epoch in range(1, EPOCHS+1):\n",
    "    pred = x1 * x1_train + x2 * x2_train + x3 * x3_train + b\n",
    "    cost = torch.mean((pred - y_train)**2)\n",
    "    \n",
    "    optimizer.zero_grad()\n",
    "    cost.backward()\n",
    "    optimizer.step()\n",
    "    \n",
    "    if epoch % 100 == 0:\n",
    "        print(f\"epoch: {epoch:4d}/{EPOCHS} | cost: {cost}\")"
   ]
  },
  {
   "cell_type": "markdown",
   "id": "7c9cb562-9e2c-4d0c-838b-285eb6b37513",
   "metadata": {},
   "source": [
    "계속 cost가 nan값으로 나왔었는데 learining rate를 1e-5가 아니라 1e-4로 설정했기 때문이다. 학습률이 높아 발산했다고 생각된다."
   ]
  },
  {
   "cell_type": "markdown",
   "id": "f18d5b6b-fa8a-4076-a44c-330ade442c8f",
   "metadata": {},
   "source": [
    "## 벡터와 행렬 연산으로 변경"
   ]
  },
  {
   "cell_type": "markdown",
   "id": "3eb72c91-4da7-43ae-ab58-4a894853f42a",
   "metadata": {},
   "source": [
    "위의 학습에서 독립변수의 개수가 3개였기 때문에 데이터와 가중치를 그만큼 설정해주었다. 결국 독립변수가 계속 늘어남에 따라 일일히 설정해야하는 작업이 요구된다. 그 뿐만 아니라 가설(예측값)을 설정하는 계산 또한 그만큼 작성해야하기에 비효율적이다. \n",
    "이를 해결하기 위해서 **행렬의 곱셈**(**내적**)을 이용할 수 있다."
   ]
  },
  {
   "cell_type": "markdown",
   "id": "c978846b-5ec8-4c0e-8a3b-b599ef05e4da",
   "metadata": {},
   "source": [
    "## 파이토치로 행렬 연산 구현"
   ]
  },
  {
   "cell_type": "code",
   "execution_count": 63,
   "id": "275ed65a-6492-4b92-ad06-2562adf97ad6",
   "metadata": {},
   "outputs": [
    {
     "name": "stdout",
     "output_type": "stream",
     "text": [
      "epoch:  100/3000 | cost: 5.757065773010254\n",
      "epoch:  200/3000 | cost: 5.514731407165527\n",
      "epoch:  300/3000 | cost: 5.283929347991943\n",
      "epoch:  400/3000 | cost: 5.064043045043945\n",
      "epoch:  500/3000 | cost: 4.8544769287109375\n",
      "epoch:  600/3000 | cost: 4.6546430587768555\n",
      "epoch:  700/3000 | cost: 4.464139461517334\n",
      "epoch:  800/3000 | cost: 4.282410144805908\n",
      "epoch:  900/3000 | cost: 4.108969211578369\n",
      "epoch: 1000/3000 | cost: 3.9434783458709717\n",
      "epoch: 1100/3000 | cost: 3.785430431365967\n",
      "epoch: 1200/3000 | cost: 3.634531021118164\n",
      "epoch: 1300/3000 | cost: 3.490398406982422\n",
      "epoch: 1400/3000 | cost: 3.352675676345825\n",
      "epoch: 1500/3000 | cost: 3.221024990081787\n",
      "epoch: 1600/3000 | cost: 3.0951921939849854\n",
      "epoch: 1700/3000 | cost: 2.9748754501342773\n",
      "epoch: 1800/3000 | cost: 2.8597991466522217\n",
      "epoch: 1900/3000 | cost: 2.749729633331299\n",
      "epoch: 2000/3000 | cost: 2.644376039505005\n",
      "epoch: 2100/3000 | cost: 2.543553352355957\n",
      "epoch: 2200/3000 | cost: 2.4470534324645996\n",
      "epoch: 2300/3000 | cost: 2.3546252250671387\n",
      "epoch: 2400/3000 | cost: 2.2661352157592773\n",
      "epoch: 2500/3000 | cost: 2.1813673973083496\n",
      "epoch: 2600/3000 | cost: 2.1001474857330322\n",
      "epoch: 2700/3000 | cost: 2.0223283767700195\n",
      "epoch: 2800/3000 | cost: 1.9477275609970093\n",
      "epoch: 2900/3000 | cost: 1.8762433528900146\n",
      "epoch: 3000/3000 | cost: 1.8076708316802979\n",
      "CPU times: total: 1.55 s\n",
      "Wall time: 1.6 s\n"
     ]
    }
   ],
   "source": [
    "%%time\n",
    "x_train = torch.FloatTensor([[73, 80, 75],\n",
    "                             [93, 88, 93],\n",
    "                             [89, 91, 80],\n",
    "                             [96, 98, 100],\n",
    "                             [73, 66, 70]])\n",
    "y_train = torch.FloatTensor([[152], [185], [180], [196], [142]])\n",
    "W = torch.zeros([3, 1], requires_grad=True)\n",
    "b = torch.zeros(1, requires_grad=True)\n",
    "\n",
    "optimizer = optim.SGD([W, b], lr=1e-5)\n",
    "\n",
    "EPOCHS = 3000\n",
    "for epoch in range(1, EPOCHS+1):\n",
    "    pred = x_train.matmul(W) + b\n",
    "    cost = torch.mean((pred - y_train)**2)\n",
    "    \n",
    "    optimizer.zero_grad()\n",
    "    cost.backward()\n",
    "    optimizer.step()\n",
    "    \n",
    "    if epoch % 100 == 0:\n",
    "        print(f\"epoch: {epoch:4d}/{EPOCHS} | cost: {cost}\")"
   ]
  },
  {
   "cell_type": "markdown",
   "id": "87e66825-26ac-422b-8db0-9627ca59ec9a",
   "metadata": {},
   "source": [
    "행렬 계산은 식을 간단하게 해주는 것 외에 다수 샘플의 병렬 연산이기 때문에 속도의 이점을 가진다"
   ]
  }
 ],
 "metadata": {
  "kernelspec": {
   "display_name": "Python 3 (ipykernel)",
   "language": "python",
   "name": "python3"
  },
  "language_info": {
   "codemirror_mode": {
    "name": "ipython",
    "version": 3
   },
   "file_extension": ".py",
   "mimetype": "text/x-python",
   "name": "python",
   "nbconvert_exporter": "python",
   "pygments_lexer": "ipython3",
   "version": "3.10.9"
  },
  "toc": {
   "base_numbering": 1,
   "nav_menu": {},
   "number_sections": true,
   "sideBar": true,
   "skip_h1_title": false,
   "title_cell": "Table of Contents",
   "title_sidebar": "Contents",
   "toc_cell": false,
   "toc_position": {},
   "toc_section_display": true,
   "toc_window_display": false
  },
  "toc-autonumbering": true,
  "toc-showmarkdowntxt": false
 },
 "nbformat": 4,
 "nbformat_minor": 5
}
