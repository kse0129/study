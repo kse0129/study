{
 "cells": [
  {
   "cell_type": "markdown",
   "id": "a3ce4c28-4558-48b8-8cbc-45b091db29d7",
   "metadata": {},
   "source": [
    "# 선형 회귀"
   ]
  },
  {
   "cell_type": "markdown",
   "id": "2228981a-9353-4647-abb3-3ad25a287521",
   "metadata": {},
   "source": [
    "## 데이터"
   ]
  },
  {
   "cell_type": "markdown",
   "id": "9e051cb1-1446-4e95-a97e-02ea098ad96b",
   "metadata": {},
   "source": [
    "train data와 test data\n",
    "- train data: 예측을 위해 학습에 사용하는 데이터셋\n",
    "- test data: 학습 완료 후 모델을 판별하기 위한 데이터셋\n",
    "\n",
    "모델을 학습하는 데 사용하는 데이터는 pytorch의 텐서 형태여야 합니다"
   ]
  },
  {
   "cell_type": "markdown",
   "id": "ad61459f-9bed-4090-b6b3-ef3a825f0cd2",
   "metadata": {},
   "source": [
    "## 가설"
   ]
  },
  {
   "cell_type": "markdown",
   "id": "9ea94449-75e2-47ff-8608-cd9afbce6a43",
   "metadata": {},
   "source": [
    "머신러닝에서 임의로 추측해서 세워보거나 경험적으로 알고있는 식을 가설이라고 하고 이 가설이 틀리다고 판단되면 계속 수정해나간다\n",
    "\n",
    "선형 회귀의 가설:\n",
    "$y = Wx + b$\n",
    "\n",
    "- 이 때, $W$를 가중치, $b$를 편향이라고 함\n"
   ]
  },
  {
   "cell_type": "markdown",
   "id": "00033c09-294a-457d-9c49-f2362bc0c921",
   "metadata": {},
   "source": [
    "## 비용 함수"
   ]
  },
  {
   "cell_type": "markdown",
   "id": "81d41cbc-c3e2-4e6a-b90d-807c7c04f5fc",
   "metadata": {},
   "source": [
    "아래의 용어는 전부 같다\n",
    "- **비용 함수(cost function)**\n",
    "- **손실 함수(loss function)**\n",
    "- 오차 함수(error function)\n",
    "- 목적 함수(objective function)"
   ]
  },
  {
   "cell_type": "markdown",
   "id": "650e263c-5b03-48be-ae65-7199515a735d",
   "metadata": {},
   "source": [
    "2차원 훈련 데이터들이 있고 이 데이터들을 가장 잘 표현하는 직선을 그리는 것이 목표라고 하면 직선과 데이터들의 차이가 생긴다.\n",
    "이를 오차라고 한다"
   ]
  },
  {
   "cell_type": "markdown",
   "id": "60463269-8158-472c-b190-b7e080ae81ae",
   "metadata": {},
   "source": [
    "모든 훈련 데이터에 대해서 오차를 구하고 총 오차를 구하는 방법으로 모든 오차를 합하는 방법을 채택한다고 가정한다\n",
    "\n",
    "|실제값|예측값|오차|\n",
    "|--|--|--|\n",
    "|25|27|-2|\n",
    "|50|40|10|\n",
    "|42|53|-9|\n",
    "|61|66|-5|\n",
    "\n",
    "모든 오차를 더하면 음수와 양수의 값이 모두 존재하기 때문에 모든 오차가 포함되지 않게 된다.\n",
    "따라서 오차값을 모두 제곱하고 더하는 방법으로 오차를 구할 수 있는데 이를 평균 제곱 오차(Mean Squared Error, MSE)라고 한다.\n",
    "이를 함수로 정의해서 값을 최소가 되도록 하는 W와 b를 구하는 과정을 훈련이라고 한다"
   ]
  },
  {
   "cell_type": "markdown",
   "id": "3ba36f52-4896-4e87-a48a-d25f07e0163a",
   "metadata": {},
   "source": [
    "## 옵티마이저\n",
    "\n",
    "- 경사하강법"
   ]
  },
  {
   "cell_type": "markdown",
   "id": "e84637d9-ff7e-4ff1-9355-6141fce55862",
   "metadata": {},
   "source": [
    "비용 함수의 최솟값을 구하는 데 사용되는 것이 옵티마이저(Optimizer) 알고리즘이다. 최적화 알고리즘이라고도 불리는데 이 알고리즘을 통해 W와 b를 찾아내는 과정을 학습이라고 한다. 가장 기본적인 최적화 알고리즘으로 경사 하강법(Gradient Descent)이 있다."
   ]
  },
  {
   "attachments": {
    "image.png": {
     "image/png": "[encoded data removed]"
    }
   },
   "cell_type": "markdown",
   "id": "e0c010ec",
   "metadata": {},
   "source": [
    "![image.png](attachment:image.png)"
   ]
  },
  {
   "cell_type": "markdown",
   "id": "3b39a2ad-a5a8-4934-bc55-1fe6175444cf",
   "metadata": {},
   "source": [
    "위에서 정의했던 가중치 $W$는 직선에서 기울기라고도 할 수 있다. 이 기울기가 커지거나 작아질수록 cost값은 계속 커진다."
   ]
  },
  {
   "attachments": {
    "image.png": {
     "image/png": "[encoded data removed]"
    }
   },
   "cell_type": "markdown",
   "id": "619b943c",
   "metadata": {},
   "source": [
    "![image.png](attachment:image.png)"
   ]
  },
  {
   "cell_type": "markdown",
   "id": "96079506",
   "metadata": {
    "ExecuteTime": {
     "end_time": "2023-03-31T00:50:43.385203Z",
     "start_time": "2023-03-31T00:50:43.356061Z"
    }
   },
   "source": [
    "따라서 cost 값이 가장 작은 점을 찾기 위해서 접선의 기울기가 0인 지점을 계속해서 찾아간다. 기울기가 갱신되는 공식은 다음과 같다."
   ]
  },
  {
   "cell_type": "markdown",
   "id": "9585ed2a",
   "metadata": {
    "ExecuteTime": {
     "end_time": "2023-03-31T00:57:37.418935Z",
     "start_time": "2023-03-31T00:57:37.408524Z"
    }
   },
   "source": [
    "$$W := W - \\alpha \\times (기울기)$$"
   ]
  },
  {
   "cell_type": "markdown",
   "id": "ae1f6f6d",
   "metadata": {},
   "source": [
    "- 기울기가 음수일 때\n",
    "\n",
    "위의 그래프에서 접선의 기울기가 0인 지점의 왼쪽에 존재하므로 W의 값이 증가해야한다.\n",
    "\n",
    "- 기울기가 양수일 때\n",
    "\n",
    "위의 그래프에서 접선의 기울기가 0인 지점의 오른쪽에 존재하므로 W의 값이 감소해야한다."
   ]
  },
  {
   "cell_type": "markdown",
   "id": "2560d024",
   "metadata": {},
   "source": [
    "$$W := W - α\\frac{∂}{∂W}cost(W)$$"
   ]
  },
  {
   "cell_type": "markdown",
   "id": "b20d3220",
   "metadata": {},
   "source": [
    "기울기는 cost를 미분한 것과 같으므로 W를 갱신하는 공식은 위와 같이 표현할 수 있다. 이 때 α는 W를 얼마나 변경할지를 결정하는 값으로 **학습률**이라고 한다.\n",
    "\n",
    "학습률의 값을 조정해줄 때 너무 큰 값을 지정하면 W가 수렴하지 않고 발산하게 되고 너무 작은 값을 지정하면 학습 시간이 오래 걸린다. "
   ]
  },
  {
   "cell_type": "markdown",
   "id": "e409faff",
   "metadata": {},
   "source": [
    "## 파이토치로 선형 회귀 구현"
   ]
  },
  {
   "cell_type": "markdown",
   "id": "723454a1",
   "metadata": {
    "ExecuteTime": {
     "end_time": "2023-03-31T02:17:17.954013Z",
     "start_time": "2023-03-31T02:17:17.941710Z"
    }
   },
   "source": [
    "### 모듈 로드 및 기본 설정"
   ]
  },
  {
   "cell_type": "code",
   "execution_count": 21,
   "id": "df9ea01c",
   "metadata": {
    "ExecuteTime": {
     "end_time": "2023-03-31T04:12:39.829342Z",
     "start_time": "2023-03-31T04:12:39.815041Z"
    }
   },
   "outputs": [],
   "source": [
    "import torch\n",
    "import torch.nn as nn\n",
    "import torch.nn.functional as F\n",
    "import torch.optim as optim"
   ]
  },
  {
   "cell_type": "code",
   "execution_count": 4,
   "id": "bbd77846",
   "metadata": {
    "ExecuteTime": {
     "end_time": "2023-03-31T02:03:24.410926Z",
     "start_time": "2023-03-31T02:03:24.366436Z"
    }
   },
   "outputs": [
    {
     "data": {
      "text/plain": [
       "<torch._C.Generator at 0x1c169f21ab0>"
      ]
     },
     "execution_count": 4,
     "metadata": {},
     "output_type": "execute_result"
    }
   ],
   "source": [
    "# 랜덤 시드값 지정\n",
    "torch.manual_seed(1)"
   ]
  },
  {
   "cell_type": "markdown",
   "id": "e43ffaf0",
   "metadata": {},
   "source": [
    "### 변수 선언"
   ]
  },
  {
   "cell_type": "code",
   "execution_count": 5,
   "id": "83dd51f5",
   "metadata": {
    "ExecuteTime": {
     "end_time": "2023-03-31T02:04:28.902449Z",
     "start_time": "2023-03-31T02:04:28.813758Z"
    }
   },
   "outputs": [
    {
     "name": "stdout",
     "output_type": "stream",
     "text": [
      "tensor([[1.],\n",
      "        [2.],\n",
      "        [3.]])\n",
      "torch.Size([3, 1])\n"
     ]
    }
   ],
   "source": [
    "x_train = torch.FloatTensor([[1], [2], [3]])\n",
    "y_train = torch.FloatTensor([[2], [4], [6]])\n",
    "\n",
    "print(x_train)\n",
    "print(x_train.shape)"
   ]
  },
  {
   "cell_type": "markdown",
   "id": "8922d35c",
   "metadata": {},
   "source": [
    "### 가중치와 편향 초기화"
   ]
  },
  {
   "cell_type": "code",
   "execution_count": 49,
   "id": "246c93c1",
   "metadata": {
    "ExecuteTime": {
     "end_time": "2023-03-31T04:19:45.998345Z",
     "start_time": "2023-03-31T04:19:45.988763Z"
    }
   },
   "outputs": [],
   "source": [
    "# requires_grad=True: 이 변수는 학습을 통해 값이 변경된다\n",
    "W = torch.zeros(1, requires_grad=True)"
   ]
  },
  {
   "cell_type": "code",
   "execution_count": 50,
   "id": "dbb7787e",
   "metadata": {
    "ExecuteTime": {
     "end_time": "2023-03-31T04:19:46.133932Z",
     "start_time": "2023-03-31T04:19:46.124507Z"
    }
   },
   "outputs": [
    {
     "data": {
      "text/plain": [
       "tensor([0.], requires_grad=True)"
      ]
     },
     "execution_count": 50,
     "metadata": {},
     "output_type": "execute_result"
    }
   ],
   "source": [
    "W"
   ]
  },
  {
   "cell_type": "code",
   "execution_count": 51,
   "id": "e99e6be8",
   "metadata": {
    "ExecuteTime": {
     "end_time": "2023-03-31T04:19:46.431061Z",
     "start_time": "2023-03-31T04:19:46.421267Z"
    }
   },
   "outputs": [],
   "source": [
    "b = torch.zeros(1, requires_grad=True)"
   ]
  },
  {
   "cell_type": "code",
   "execution_count": 52,
   "id": "4c3077e7",
   "metadata": {
    "ExecuteTime": {
     "end_time": "2023-03-31T04:19:47.048245Z",
     "start_time": "2023-03-31T04:19:47.037147Z"
    }
   },
   "outputs": [
    {
     "data": {
      "text/plain": [
       "tensor([0.], requires_grad=True)"
      ]
     },
     "execution_count": 52,
     "metadata": {},
     "output_type": "execute_result"
    }
   ],
   "source": [
    "b"
   ]
  },
  {
   "cell_type": "markdown",
   "id": "a1557d95",
   "metadata": {},
   "source": [
    "### 가설 설정"
   ]
  },
  {
   "cell_type": "code",
   "execution_count": 53,
   "id": "b9dde47e",
   "metadata": {
    "ExecuteTime": {
     "end_time": "2023-03-31T04:19:47.864761Z",
     "start_time": "2023-03-31T04:19:47.855683Z"
    }
   },
   "outputs": [
    {
     "name": "stdout",
     "output_type": "stream",
     "text": [
      "tensor([[0.],\n",
      "        [0.],\n",
      "        [0.]], grad_fn=<AddBackward0>)\n"
     ]
    }
   ],
   "source": [
    "hypothesis = x_train * W + b\n",
    "print(hypothesis)"
   ]
  },
  {
   "cell_type": "markdown",
   "id": "e0a8457d",
   "metadata": {},
   "source": [
    "### 비용 함수 선언"
   ]
  },
  {
   "cell_type": "code",
   "execution_count": 54,
   "id": "c1fd4ac2",
   "metadata": {
    "ExecuteTime": {
     "end_time": "2023-03-31T04:19:48.711945Z",
     "start_time": "2023-03-31T04:19:48.700177Z"
    }
   },
   "outputs": [
    {
     "name": "stdout",
     "output_type": "stream",
     "text": [
      "tensor(18.6667, grad_fn=<MeanBackward0>)\n"
     ]
    }
   ],
   "source": [
    "cost = torch.mean((hypothesis - y_train) ** 2)\n",
    "print(cost)"
   ]
  },
  {
   "cell_type": "markdown",
   "id": "2d3b21b7",
   "metadata": {},
   "source": [
    "### 경사 하강법 구현"
   ]
  },
  {
   "cell_type": "code",
   "execution_count": 55,
   "id": "406c2120",
   "metadata": {
    "ExecuteTime": {
     "end_time": "2023-03-31T04:19:49.580807Z",
     "start_time": "2023-03-31T04:19:49.570897Z"
    }
   },
   "outputs": [],
   "source": [
    "optimizer = optim.SGD([W, b], lr=0.01)"
   ]
  },
  {
   "cell_type": "code",
   "execution_count": 56,
   "id": "33f3f000",
   "metadata": {
    "ExecuteTime": {
     "end_time": "2023-03-31T04:19:49.946158Z",
     "start_time": "2023-03-31T04:19:49.924828Z"
    }
   },
   "outputs": [],
   "source": [
    "# gradient를 0으로 초기화\n",
    "optimizer.zero_grad()\n",
    "# 비용 함수를 미분하여 gradient 계산\n",
    "cost.backward()\n",
    "# W와 b를 업데이트\n",
    "optimizer.step()"
   ]
  },
  {
   "cell_type": "markdown",
   "id": "0b7441b6",
   "metadata": {
    "ExecuteTime": {
     "end_time": "2023-03-31T04:14:58.945369Z",
     "start_time": "2023-03-31T04:14:58.933950Z"
    }
   },
   "source": [
    "optimizer.zero_grad()를 실행하여 미분을 통해 얻은 기울기를 0으로 초기화.\n",
    "그 다음 cost.backward() 함수를 호출하면 가중치 W와 편향 b에 대한 기울기가 계산된다. 그 다음 optimizer.step() 함수를 호출해서 인수로 들어갔던 W와 b에서 리턴되는 변수들의 기울기에 학습률(0.01)을 적용하여 업데이트한다"
   ]
  },
  {
   "cell_type": "code",
   "execution_count": 57,
   "id": "358a28dd",
   "metadata": {
    "ExecuteTime": {
     "end_time": "2023-03-31T04:19:50.845172Z",
     "start_time": "2023-03-31T04:19:50.822172Z"
    },
    "scrolled": true
   },
   "outputs": [
    {
     "data": {
      "text/plain": [
       "(tensor([0.1867], requires_grad=True), tensor([0.0800], requires_grad=True))"
      ]
     },
     "execution_count": 57,
     "metadata": {},
     "output_type": "execute_result"
    }
   ],
   "source": [
    "W, b"
   ]
  },
  {
   "cell_type": "code",
   "execution_count": 60,
   "id": "64087692",
   "metadata": {
    "ExecuteTime": {
     "end_time": "2023-03-31T04:55:05.673121Z",
     "start_time": "2023-03-31T04:55:05.665544Z"
    }
   },
   "outputs": [],
   "source": [
    "x_train = torch.FloatTensor([[1], [2], [3]])\n",
    "y_train = torch.FloatTensor([[2], [4], [6]])\n",
    "\n",
    "W = torch.zeros(1, requires_grad=True)\n",
    "b = torch.zeros(1, requires_grad=True)\n",
    "\n",
    "EPOCHS = 100\n",
    "LEARNING_RATE = 1e-2\n",
    "optimizer = optim.SGD([W, b], lr=LEARNING_RATE)\n",
    "\n",
    "for epoch in range(1, EPOCHS+1):\n",
    "    hypothesis = W * x_train + b\n",
    "    cost = torch.mean((hypothesis - y_train)**2)\n",
    "    \n",
    "    optimizer.zero_grad()\n",
    "    cost.backward()\n",
    "    optimizer.step()\n",
    "    "
   ]
  }
 ],
 "metadata": {
  "kernelspec": {
   "display_name": "Python 3 (ipykernel)",
   "language": "python",
   "name": "python3"
  },
  "language_info": {
   "codemirror_mode": {
    "name": "ipython",
    "version": 3
   },
   "file_extension": ".py",
   "mimetype": "text/x-python",
   "name": "python",
   "nbconvert_exporter": "python",
   "pygments_lexer": "ipython3",
   "version": "3.9.13"
  },
  "toc": {
   "base_numbering": 1,
   "nav_menu": {},
   "number_sections": true,
   "sideBar": true,
   "skip_h1_title": false,
   "title_cell": "Table of Contents",
   "title_sidebar": "Contents",
   "toc_cell": false,
   "toc_position": {},
   "toc_section_display": true,
   "toc_window_display": false
  },
  "toc-autonumbering": true,
  "toc-showmarkdowntxt": false
 },
 "nbformat": 4,
 "nbformat_minor": 5
}
