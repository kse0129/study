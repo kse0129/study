{
 "cells": [
  {
   "cell_type": "markdown",
   "metadata": {},
   "source": [
    "# 원-핫 인코딩(One-Hot Encoding)"
   ]
  },
  {
   "cell_type": "markdown",
   "metadata": {},
   "source": [
    "원-핫 인코딩은 클래스 개수만큼 차원을 가지고 해당하는 클래스는 1, 아닌 클래스는 0을 가지는 표현 방법"
   ]
  },
  {
   "cell_type": "markdown",
   "metadata": {},
   "source": [
    "이렇게 원-핫 인코딩으로 표현된 벡터를 원-핫 벡터라고 함"
   ]
  },
  {
   "cell_type": "markdown",
   "metadata": {},
   "source": [
    "## 원-핫 벡터를 사용하는 이유"
   ]
  },
  {
   "cell_type": "markdown",
   "metadata": {},
   "source": [
    "클래스를 단순하게 정수로 인코딩하는 경우 각 클래스에 대해 임의의 정수를 부여할 수 있다. 예를 들어 0, 1, 2또는 1, 2, 3, .. 등으로 간단히 인코딩한다. <br>\n",
    "\n",
    "이 경우 손실 함수로 평균 제곱 오차인 MSE를 사용할 경우 실제값과 예측값의 차이가 클래스마다 달라진다. 따라서, 클래스 사이에 거리의 개념이 생기기 때문에 의도와 다르게 오차가 구해지게 된다. 그러나 항상 정수 인코딩이 틀린 것은 아니다.<br>\n",
    "\n",
    "클래스별로 순서가 존재하는 경우에는 정수 인코딩의 거리가 유용하다. 리뷰 1~5점, 성적 A~F 등 다중 클래스이지만 순서가 있는 경우에는 정수 인코딩에 의한 거리정보가 유용하다."
   ]
  },
  {
   "cell_type": "markdown",
   "metadata": {},
   "source": [
    "## 원-핫 벡터의 무작위성"
   ]
  },
  {
   "cell_type": "markdown",
   "metadata": {},
   "source": [
    "원-핫 인코딩을 거친 원-핫 벡터들은 모든 쌍에 대해서 거리를 구해도 모두 동일하다. 이러한 원-핫 벡터의 무작위성은 단어의 유사성을 구할 수 없다는 단점으로 언급된다."
   ]
  }
 ],
 "metadata": {
  "language_info": {
   "name": "python"
  },
  "orig_nbformat": 4
 },
 "nbformat": 4,
 "nbformat_minor": 2
}
