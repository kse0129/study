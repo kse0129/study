{
 "cells": [
  {
   "cell_type": "markdown",
   "id": "ca63b451-c5f6-484a-a8a8-e3f5f34763b9",
   "metadata": {},
   "source": [
    "# nn.Module로 구현하는 선형 회귀"
   ]
  },
  {
   "cell_type": "markdown",
   "id": "9ecf7819-377c-4627-8043-c4da3d0a8c2d",
   "metadata": {},
   "source": [
    "# 클래스로 파이토치 모델 구현"
   ]
  },
  {
   "cell_type": "markdown",
   "id": "bd7cbd15-ae3f-4738-964b-3751e328d2a8",
   "metadata": {},
   "source": [
    "# 미니 배치와 데이터 로드"
   ]
  },
  {
   "cell_type": "markdown",
   "id": "85553ad9-be80-4908-8260-e0c9077002d8",
   "metadata": {},
   "source": [
    "# 커스텀 데이터셋"
   ]
  }
 ],
 "metadata": {
  "kernelspec": {
   "display_name": "Python 3 (ipykernel)",
   "language": "python",
   "name": "python3"
  },
  "language_info": {
   "codemirror_mode": {
    "name": "ipython",
    "version": 3
   },
   "file_extension": ".py",
   "mimetype": "text/x-python",
   "name": "python",
   "nbconvert_exporter": "python",
   "pygments_lexer": "ipython3",
   "version": "3.10.9"
  }
 },
 "nbformat": 4,
 "nbformat_minor": 5
}
