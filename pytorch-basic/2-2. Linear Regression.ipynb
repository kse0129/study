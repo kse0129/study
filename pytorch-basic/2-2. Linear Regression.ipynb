{
 "cells": [
  {
   "cell_type": "markdown",
   "id": "ca63b451-c5f6-484a-a8a8-e3f5f34763b9",
   "metadata": {
    "tags": []
   },
   "source": [
    "# nn.Module로 구현하는 선형 회귀"
   ]
  },
  {
   "cell_type": "markdown",
   "id": "217ab380-6493-41e2-8f1a-f6cce29241c6",
   "metadata": {},
   "source": [
    "파이토치에서 이미 구현되어져 있는 함수들을 불러와서 선형 회귀 모델을 구현할 수 있다. 예를 들어 파이토치에서는 선형 회귀 모델이 nn.Linear()라는 함수로, 평균 제곱 오차가 nn.functional.mse_loss()라는 함수로 구현되어져 있다.\n",
    "\n",
    "```python\n",
    "import torch.nn as nn\n",
    "model = nn.Linear(input_dim, output_dim)\n",
    "\n",
    "import torch.nn.functional as F\n",
    "cost = F.mse_loss(prediction, y_train)\n",
    "```"
   ]
  },
  {
   "cell_type": "markdown",
   "id": "9380f710-38fe-45b6-8de9-dcf323bc9498",
   "metadata": {},
   "source": [
    "## 단순 선형 회귀 구현"
   ]
  },
  {
   "cell_type": "code",
   "execution_count": 1,
   "id": "4993f678-8566-42bf-a5f5-47bdd132437d",
   "metadata": {},
   "outputs": [],
   "source": [
    "import torch\n",
    "import torch.nn as nn\n",
    "import torch.nn.functional as F"
   ]
  },
  {
   "cell_type": "code",
   "execution_count": 2,
   "id": "08b005c0-ae9c-486e-9236-53e61e915e1c",
   "metadata": {},
   "outputs": [
    {
     "data": {
      "text/plain": [
       "<torch._C.Generator at 0x2bd6a1e6950>"
      ]
     },
     "execution_count": 2,
     "metadata": {},
     "output_type": "execute_result"
    }
   ],
   "source": [
    "torch.manual_seed(1)"
   ]
  },
  {
   "cell_type": "markdown",
   "id": "c7774834-5884-4e40-859d-c6dc9fb702a5",
   "metadata": {},
   "source": [
    "$ W = 2, b = 0 $ 임을 알고 데이터 선언"
   ]
  },
  {
   "cell_type": "code",
   "execution_count": 3,
   "id": "26254a7b-0fc2-4976-81b9-4632d36885e2",
   "metadata": {},
   "outputs": [],
   "source": [
    "x_train = torch.FloatTensor([[1], [2], [3]])\n",
    "y_train = torch.FloatTensor([[2], [4], [6]])"
   ]
  },
  {
   "cell_type": "markdown",
   "id": "c24e6335-c971-43fb-b84b-dacbc9dcebf9",
   "metadata": {},
   "source": [
    "선형 회귀 모델 구현\n",
    "- nn.Linear()는 입력의 차원과 출력의 차원을 인수로 받는다."
   ]
  },
  {
   "cell_type": "code",
   "execution_count": 4,
   "id": "d938dcfc-007d-4a5f-9184-195bc01599fd",
   "metadata": {},
   "outputs": [],
   "source": [
    "input_dim = 1\n",
    "output_dim = 1\n",
    "model = nn.Linear(input_dim, output_dim)"
   ]
  },
  {
   "cell_type": "code",
   "execution_count": 5,
   "id": "3fd1d809-2356-4e0e-9c71-a3cd7a247d4e",
   "metadata": {},
   "outputs": [
    {
     "data": {
      "text/plain": [
       "(torch.Size([3, 1]), torch.Size([3, 1]))"
      ]
     },
     "execution_count": 5,
     "metadata": {},
     "output_type": "execute_result"
    }
   ],
   "source": [
    "x_train.size(), y_train.size()"
   ]
  },
  {
   "cell_type": "markdown",
   "id": "e633e7a3-f480-41a1-bacc-0d4ba6f9726e",
   "metadata": {},
   "source": [
    "x_train, y_train 모두 1차원이므로 1을 각 인자로 설정한다. model에는 가중치 W와 편향 b가 저장되어 있고 이를 parameters() 함수를 사용해서 불러올 수 있다."
   ]
  },
  {
   "cell_type": "code",
   "execution_count": 6,
   "id": "88145063-d669-422c-9994-f0c927f3017d",
   "metadata": {},
   "outputs": [
    {
     "name": "stdout",
     "output_type": "stream",
     "text": [
      "[Parameter containing:\n",
      "tensor([[0.5153]], requires_grad=True), Parameter containing:\n",
      "tensor([-0.4414], requires_grad=True)]\n"
     ]
    }
   ],
   "source": [
    "print(list(model.parameters()))"
   ]
  },
  {
   "cell_type": "markdown",
   "id": "27bd2157-6417-4a90-a2f9-a4288ec5cb80",
   "metadata": {},
   "source": [
    "첫번째 값이 가중치 W이고 두번째 값이 편향 b이다. 두 값 모두 랜덤한 값으로 초기화되어 있고 학습을 위해 requires_grad 인자가 True 값으로 설정되어있다."
   ]
  },
  {
   "cell_type": "code",
   "execution_count": 7,
   "id": "2a21d845-beb1-4927-8b20-3b19d69d7af6",
   "metadata": {},
   "outputs": [
    {
     "name": "stdout",
     "output_type": "stream",
     "text": [
      "[Parameter containing:\n",
      "tensor([[-0.1119,  0.2710, -0.5435],\n",
      "        [ 0.3462, -0.1188,  0.2937]], requires_grad=True), Parameter containing:\n",
      "tensor([ 0.0803, -0.0707], requires_grad=True)]\n"
     ]
    }
   ],
   "source": [
    "print(list(nn.Linear(3, 2).parameters()))"
   ]
  },
  {
   "cell_type": "markdown",
   "id": "51d6658e-deab-4f57-bc0c-dab0a835199f",
   "metadata": {},
   "source": [
    "입출력 차원에 따라 가중치와 편향의 크기가 달라지는 것을 알 수 있다."
   ]
  },
  {
   "cell_type": "code",
   "execution_count": 8,
   "id": "0dcc1df9-81ef-44c7-abbc-b810cbbc0e6f",
   "metadata": {},
   "outputs": [],
   "source": [
    "optimizer = torch.optim.SGD(model.parameters(), lr=0.01)"
   ]
  },
  {
   "cell_type": "markdown",
   "id": "b3215c4d-2af2-4fbd-9dd6-655a90b84285",
   "metadata": {},
   "source": [
    "최적화 알고리즘(옵티마이저)를 정의한다. 앞에서는 직접 가중치와 편향을 리스트로 전달했지만 model의 parameters 함수로 전달할 수 있다. 사용하는 알고리즘은 SGD(경사하강법)이고 학습률은 0.01로 정의했다."
   ]
  },
  {
   "cell_type": "code",
   "execution_count": 9,
   "id": "39d60266-1950-489e-b755-3827a0dd3df2",
   "metadata": {},
   "outputs": [
    {
     "name": "stdout",
     "output_type": "stream",
     "text": [
      "epoch:  100/2000 | cost: 0.00280407\n",
      "epoch:  200/2000 | cost: 0.00173274\n",
      "epoch:  300/2000 | cost: 0.00107072\n",
      "epoch:  400/2000 | cost: 0.00066164\n",
      "epoch:  500/2000 | cost: 0.00040886\n",
      "epoch:  600/2000 | cost: 0.00025265\n",
      "epoch:  700/2000 | cost: 0.00015612\n",
      "epoch:  800/2000 | cost: 0.00009647\n",
      "epoch:  900/2000 | cost: 0.00005961\n",
      "epoch: 1000/2000 | cost: 0.00003684\n",
      "epoch: 1100/2000 | cost: 0.00002276\n",
      "epoch: 1200/2000 | cost: 0.00001407\n",
      "epoch: 1300/2000 | cost: 0.00000869\n",
      "epoch: 1400/2000 | cost: 0.00000537\n",
      "epoch: 1500/2000 | cost: 0.00000332\n",
      "epoch: 1600/2000 | cost: 0.00000205\n",
      "epoch: 1700/2000 | cost: 0.00000127\n",
      "epoch: 1800/2000 | cost: 0.00000078\n",
      "epoch: 1900/2000 | cost: 0.00000048\n",
      "epoch: 2000/2000 | cost: 0.00000030\n"
     ]
    }
   ],
   "source": [
    "EPOCHS = 2000\n",
    "for epoch in range(1, EPOCHS+1):\n",
    "    pred = model(x_train)\n",
    "    cost = nn.functional.mse_loss(pred, y_train)\n",
    "    \n",
    "    optimizer.zero_grad()\n",
    "    cost.backward()\n",
    "    optimizer.step()\n",
    "    \n",
    "    if epoch % 100 == 0:\n",
    "        print(f\"epoch: {epoch:4d}/{EPOCHS} | cost: {cost:.8f}\")"
   ]
  },
  {
   "cell_type": "code",
   "execution_count": 10,
   "id": "450bd6cf-7240-45e5-b31d-6b52e8bd7c36",
   "metadata": {},
   "outputs": [
    {
     "name": "stdout",
     "output_type": "stream",
     "text": [
      "input: 4.0, value: tensor([[7.9989]], grad_fn=<AddmmBackward0>)\n"
     ]
    }
   ],
   "source": [
    "new_var = torch.FloatTensor([[4.0]])\n",
    "pred_y = model(new_var)\n",
    "print(f\"input: {new_var.item()}, value: {pred_y}\")"
   ]
  },
  {
   "cell_type": "markdown",
   "id": "8e73db9c-cb47-4f80-ba1b-2b1eceb70df2",
   "metadata": {},
   "source": [
    "정답 값인 8에 거의 근접하고 있다"
   ]
  },
  {
   "cell_type": "code",
   "execution_count": 11,
   "id": "a8be5980-3ff6-4cea-93c2-27da99a50fc1",
   "metadata": {},
   "outputs": [
    {
     "name": "stdout",
     "output_type": "stream",
     "text": [
      "[Parameter containing:\n",
      "tensor([[1.9994]], requires_grad=True), Parameter containing:\n",
      "tensor([0.0014], requires_grad=True)]\n"
     ]
    }
   ],
   "source": [
    "print(list(model.parameters()))"
   ]
  },
  {
   "cell_type": "markdown",
   "id": "464db6fd-4bae-4119-888b-e2bf9b89f690",
   "metadata": {},
   "source": [
    "forward/backward 연산\n",
    "1. forward 연산\n",
    "    - 값 x로부터 예측된 y를 얻는 것\n",
    "    - 학습 전 x_train을 통해 예측값을 얻는 것\n",
    "    - 학습이 완료된 후 new_var를 통해 예측값을 얻는 것\n",
    "    \n",
    "2. backward 연산\n",
    "    - 학습 과정에서 비용 함수를 미분하여 기울기을 구하는 것\n",
    "    - cost.backward() 함수는 비용 함수로부터 기울기를 구하라는 의미로 backward 연산"
   ]
  },
  {
   "cell_type": "markdown",
   "id": "38a3c249-18c6-4d6d-95ff-cc5be879af78",
   "metadata": {},
   "source": [
    "## 다중 선형 회귀 구현"
   ]
  },
  {
   "cell_type": "code",
   "execution_count": 8,
   "id": "38af3c77-9a54-4835-a092-e2b496afb424",
   "metadata": {},
   "outputs": [],
   "source": [
    "import torch\n",
    "import torch.nn as nn\n",
    "import torch.nn.functional as F\n",
    "import torch.optim as optim"
   ]
  },
  {
   "cell_type": "code",
   "execution_count": 2,
   "id": "aaccc0b4-73bb-47d0-aecf-6acc6511e774",
   "metadata": {},
   "outputs": [
    {
     "data": {
      "text/plain": [
       "<torch._C.Generator at 0x24399f68fb0>"
      ]
     },
     "execution_count": 2,
     "metadata": {},
     "output_type": "execute_result"
    }
   ],
   "source": [
    "torch.manual_seed(1)"
   ]
  },
  {
   "cell_type": "code",
   "execution_count": 3,
   "id": "0adf8c95-9a57-46d9-8ed9-293099371b68",
   "metadata": {},
   "outputs": [],
   "source": [
    "x_train = torch.FloatTensor([[73, 80, 75],\n",
    "                             [93, 88, 93],\n",
    "                             [89, 91, 90],\n",
    "                             [96, 98, 100],\n",
    "                             [73, 66, 70]])\n",
    "y_train = torch.FloatTensor([[152], [185], [180], [196], [142]])"
   ]
  },
  {
   "cell_type": "code",
   "execution_count": 4,
   "id": "bc1bf32e-16f0-429f-a7c3-b18ad2ad7773",
   "metadata": {},
   "outputs": [],
   "source": [
    "model = nn.Linear(3, 1)"
   ]
  },
  {
   "cell_type": "code",
   "execution_count": 5,
   "id": "2a70979b-b0b6-4ac9-b844-889f49a62563",
   "metadata": {},
   "outputs": [
    {
     "name": "stdout",
     "output_type": "stream",
     "text": [
      "[Parameter containing:\n",
      "tensor([[ 0.2975, -0.2548, -0.1119]], requires_grad=True), Parameter containing:\n",
      "tensor([0.2710], requires_grad=True)]\n"
     ]
    }
   ],
   "source": [
    "print(list(model.parameters()))"
   ]
  },
  {
   "cell_type": "code",
   "execution_count": 9,
   "id": "2363b8f4-3d94-4226-94dc-9fe65b23271c",
   "metadata": {},
   "outputs": [],
   "source": [
    "optimizer = optim.SGD(model.parameters(), lr=1e-5)"
   ]
  },
  {
   "cell_type": "code",
   "execution_count": 11,
   "id": "93e96eed-d30e-469a-b871-23d5750c02fb",
   "metadata": {},
   "outputs": [
    {
     "name": "stdout",
     "output_type": "stream",
     "text": [
      "epoch:  100/EPOCHS | cost: 0.22601108253002167\n",
      "epoch:  200/EPOCHS | cost: 0.22392964363098145\n",
      "epoch:  300/EPOCHS | cost: 0.22195272147655487\n",
      "epoch:  400/EPOCHS | cost: 0.22007402777671814\n",
      "epoch:  500/EPOCHS | cost: 0.21828775107860565\n",
      "epoch:  600/EPOCHS | cost: 0.21659298241138458\n",
      "epoch:  700/EPOCHS | cost: 0.21496835350990295\n",
      "epoch:  800/EPOCHS | cost: 0.21343059837818146\n",
      "epoch:  900/EPOCHS | cost: 0.21197159588336945\n",
      "epoch: 1000/EPOCHS | cost: 0.21057219803333282\n",
      "epoch: 1100/EPOCHS | cost: 0.20924659073352814\n",
      "epoch: 1200/EPOCHS | cost: 0.20798702538013458\n",
      "epoch: 1300/EPOCHS | cost: 0.20677998661994934\n",
      "epoch: 1400/EPOCHS | cost: 0.2056293785572052\n",
      "epoch: 1500/EPOCHS | cost: 0.2045356035232544\n",
      "epoch: 1600/EPOCHS | cost: 0.2034899741411209\n",
      "epoch: 1700/EPOCHS | cost: 0.2024952918291092\n",
      "epoch: 1800/EPOCHS | cost: 0.20155031979084015\n",
      "epoch: 1900/EPOCHS | cost: 0.20064163208007812\n",
      "epoch: 2000/EPOCHS | cost: 0.19978323578834534\n"
     ]
    }
   ],
   "source": [
    "EPOCHS = 2000\n",
    "for epoch in range(1, EPOCHS+1):\n",
    "    pred = model(x_train)\n",
    "    cost = F.mse_loss(pred, y_train)\n",
    "    \n",
    "    optimizer.zero_grad()\n",
    "    cost.backward()\n",
    "    optimizer.step()\n",
    "    \n",
    "    if epoch % 100 == 0:\n",
    "        print(f\"epoch: {epoch:4d}/EPOCHS | cost: {cost}\")"
   ]
  },
  {
   "cell_type": "markdown",
   "id": "9ecf7819-377c-4627-8043-c4da3d0a8c2d",
   "metadata": {},
   "source": [
    "# 클래스로 파이토치 모델 구현"
   ]
  },
  {
   "cell_type": "markdown",
   "id": "48690510-9761-4008-83ae-bd0f7df438ee",
   "metadata": {},
   "source": [
    "## 모델을 클래스로 구현"
   ]
  },
  {
   "cell_type": "code",
   "execution_count": 12,
   "id": "8fe5bb0c-58c6-4f38-a88e-6cc1fb01842e",
   "metadata": {},
   "outputs": [],
   "source": [
    "model = nn.Linear(1, 1)"
   ]
  },
  {
   "cell_type": "code",
   "execution_count": 14,
   "id": "886ed84d-8970-4598-b640-7cd0dd815b34",
   "metadata": {},
   "outputs": [],
   "source": [
    "class LinearRegressionModel(nn.Module):\n",
    "    def __init__(self):\n",
    "        super().__init__()\n",
    "        self.linear = nn.Linear(1, 1)\n",
    "        \n",
    "    def forward(self, x):\n",
    "        return self.linear(x)"
   ]
  },
  {
   "cell_type": "markdown",
   "id": "a24031c9-6693-43a9-875d-9e4cfa6caec5",
   "metadata": {},
   "source": [
    "class 로 구현된 모델은 nn.Module을 상속받는다. \n",
    "\n",
    "- `__init__()`: 모델의 구조와 동작을 정의하는 생성자를 정의. 파이썬에서 객체가 가지는 속성값을 초기화하는 역할로 객체가 생성될 때 자동으로 호출된다.\n",
    "- `super()`: 클래스가 nn.Module 클래스의 속성들을 가지고 초기화된다.\n",
    "- `forward()`: 모델이 학습데이터를 입력받아서 forward 연산을 수행"
   ]
  },
  {
   "cell_type": "markdown",
   "id": "a043e96c-1223-41ba-a65e-dae12099520f",
   "metadata": {},
   "source": [
    "## 단순 선형 회귀 클래스로 구현"
   ]
  },
  {
   "cell_type": "code",
   "execution_count": 26,
   "id": "292a8d32-8b30-4603-b2a7-3a37925f9479",
   "metadata": {},
   "outputs": [],
   "source": [
    "class LinearRegressionModel(nn.Module):\n",
    "    def __init__(self):\n",
    "        super().__init__()\n",
    "        self.linear = nn.Linear(1, 1)\n",
    "        \n",
    "    def forward(self, x):\n",
    "        return self.linear(x)"
   ]
  },
  {
   "cell_type": "code",
   "execution_count": 27,
   "id": "b0648d58-0926-4fa3-88cb-13878f671df8",
   "metadata": {},
   "outputs": [
    {
     "name": "stdout",
     "output_type": "stream",
     "text": [
      "epoch:  100/2000 | cost: 0.01705176569521427\n",
      "epoch:  200/2000 | cost: 0.010536939837038517\n",
      "epoch:  300/2000 | cost: 0.006511184852570295\n",
      "epoch:  400/2000 | cost: 0.0040235151536762714\n",
      "epoch:  500/2000 | cost: 0.002486287383362651\n",
      "epoch:  600/2000 | cost: 0.001536373165436089\n",
      "epoch:  700/2000 | cost: 0.0009493827819824219\n",
      "epoch:  800/2000 | cost: 0.0005866587744094431\n",
      "epoch:  900/2000 | cost: 0.000362524384399876\n",
      "epoch: 1000/2000 | cost: 0.00022401548631023616\n",
      "epoch: 1100/2000 | cost: 0.00013842983753420413\n",
      "epoch: 1200/2000 | cost: 8.55389007483609e-05\n",
      "epoch: 1300/2000 | cost: 5.285831866785884e-05\n",
      "epoch: 1400/2000 | cost: 3.266330895712599e-05\n",
      "epoch: 1500/2000 | cost: 2.018342274823226e-05\n",
      "epoch: 1600/2000 | cost: 1.2472162779886276e-05\n",
      "epoch: 1700/2000 | cost: 7.707370059506502e-06\n",
      "epoch: 1800/2000 | cost: 4.762485332321376e-06\n",
      "epoch: 1900/2000 | cost: 2.9432555948005756e-06\n",
      "epoch: 2000/2000 | cost: 1.819024305405037e-06\n"
     ]
    }
   ],
   "source": [
    "x_train = torch.FloatTensor([[1], [2], [3]])\n",
    "y_train = torch.FloatTensor([[2], [4], [6]])\n",
    "\n",
    "model = LinearRegressionModel()\n",
    "optimizer = optim.SGD(model.parameters(), lr=1e-2)\n",
    "\n",
    "EPOCHS = 2000\n",
    "for epoch in range(1, EPOCHS+1):\n",
    "    pred = model(x_train)\n",
    "    cost = F.mse_loss(pred, y_train)\n",
    "    \n",
    "    optimizer.zero_grad()\n",
    "    cost.backward()\n",
    "    optimizer.step()\n",
    "    \n",
    "    if epoch % 100 == 0:\n",
    "        print(f\"epoch: {epoch:4d}/{EPOCHS} | cost: {cost}\")"
   ]
  },
  {
   "cell_type": "markdown",
   "id": "5ff28401-e055-439b-9e80-bbb31d28b01b",
   "metadata": {},
   "source": [
    "## 다중 선형 회귀 클래스로 구현"
   ]
  },
  {
   "cell_type": "code",
   "execution_count": 29,
   "id": "274bc4cd-925b-47e6-8a83-5000ffa1a9fe",
   "metadata": {},
   "outputs": [],
   "source": [
    "import torch\n",
    "import torch.nn as nn\n",
    "import torch.nn.functional as F\n",
    "import torch.optim as optim"
   ]
  },
  {
   "cell_type": "code",
   "execution_count": 30,
   "id": "e0b32388-a4f4-415a-8b2a-356d5e0d9cc4",
   "metadata": {},
   "outputs": [
    {
     "data": {
      "text/plain": [
       "<torch._C.Generator at 0x24399f68fb0>"
      ]
     },
     "execution_count": 30,
     "metadata": {},
     "output_type": "execute_result"
    }
   ],
   "source": [
    "torch.manual_seed(1)"
   ]
  },
  {
   "cell_type": "code",
   "execution_count": 31,
   "id": "811d1a3d-40c5-4d2b-94ba-05a35008d0a1",
   "metadata": {},
   "outputs": [],
   "source": [
    "x_train = torch.FloatTensor([[73, 80, 75],\n",
    "                             [93, 88, 93],\n",
    "                             [89, 91, 90],\n",
    "                             [96, 98, 100],\n",
    "                             [73, 66, 70]])\n",
    "y_train = torch.FloatTensor([[152], [185], [180], [196], [142]])"
   ]
  },
  {
   "cell_type": "code",
   "execution_count": 32,
   "id": "691109ff-b197-423a-91b3-1f36afb9652a",
   "metadata": {},
   "outputs": [],
   "source": [
    "class MultiVariateLinearRegressionModel(nn.Module):\n",
    "    def __init__(self):\n",
    "        super().__init__()\n",
    "        self.linear = nn.Linear(3, 1)\n",
    "        \n",
    "    def forward(self, x):\n",
    "        return self.linear(x)"
   ]
  },
  {
   "cell_type": "code",
   "execution_count": 33,
   "id": "85293195-70f7-4ff6-ba75-b380a1f5d5c4",
   "metadata": {},
   "outputs": [],
   "source": [
    "model = MultiVariateLinearRegressionModel()\n",
    "optimizer = optim.SGD(model.parameters(), lr=1e-5)"
   ]
  },
  {
   "cell_type": "code",
   "execution_count": 35,
   "id": "307127ba-a386-401d-b7a2-ac6f5c0cae62",
   "metadata": {},
   "outputs": [
    {
     "name": "stdout",
     "output_type": "stream",
     "text": [
      "epoch:  100/2000 | cost: 0.22601108253002167\n",
      "epoch:  200/2000 | cost: 0.22392964363098145\n",
      "epoch:  300/2000 | cost: 0.22195272147655487\n",
      "epoch:  400/2000 | cost: 0.22007402777671814\n",
      "epoch:  500/2000 | cost: 0.21828775107860565\n",
      "epoch:  600/2000 | cost: 0.21659298241138458\n",
      "epoch:  700/2000 | cost: 0.21496835350990295\n",
      "epoch:  800/2000 | cost: 0.21343059837818146\n",
      "epoch:  900/2000 | cost: 0.21197159588336945\n",
      "epoch: 1000/2000 | cost: 0.21057219803333282\n",
      "epoch: 1100/2000 | cost: 0.20924659073352814\n",
      "epoch: 1200/2000 | cost: 0.20798702538013458\n",
      "epoch: 1300/2000 | cost: 0.20677998661994934\n",
      "epoch: 1400/2000 | cost: 0.2056293785572052\n",
      "epoch: 1500/2000 | cost: 0.2045356035232544\n",
      "epoch: 1600/2000 | cost: 0.2034899741411209\n",
      "epoch: 1700/2000 | cost: 0.2024952918291092\n",
      "epoch: 1800/2000 | cost: 0.20155031979084015\n",
      "epoch: 1900/2000 | cost: 0.20064163208007812\n",
      "epoch: 2000/2000 | cost: 0.19978323578834534\n"
     ]
    }
   ],
   "source": [
    "EPOCHS = 2000\n",
    "for epoch in range(1, EPOCHS+1):\n",
    "    pred = model(x_train)\n",
    "    cost = F.mse_loss(pred, y_train)\n",
    "    \n",
    "    optimizer.zero_grad()\n",
    "    cost.backward()\n",
    "    optimizer.step()\n",
    "    \n",
    "    if epoch % 100 == 0:\n",
    "        print(f\"epoch: {epoch:4d}/{EPOCHS} | cost: {cost}\")"
   ]
  },
  {
   "cell_type": "markdown",
   "id": "bd7cbd15-ae3f-4738-964b-3751e328d2a8",
   "metadata": {},
   "source": [
    "# 미니 배치와 데이터 로드"
   ]
  },
  {
   "cell_type": "markdown",
   "id": "3de0819a-f4cb-4ac6-bfe0-fb3606290859",
   "metadata": {},
   "source": [
    "## 미니 배치와 배치 크기"
   ]
  },
  {
   "cell_type": "markdown",
   "id": "6ee7831f-408e-4c45-b430-859397c1258d",
   "metadata": {},
   "source": [
    "다중 선형 회귀에서 데이터 샘플 5개를 하나의 행렬로 선언하여 학습하였다. 만약 현업에서도 이런 식으로 수행한다면 데이터의 양이 너무 방대해서 비효율적일 수 있고 메모리의 한계로 계산이 불가능한 경우도 있다.\n",
    "\n",
    "그렇기 때문에 전체 데이터를 작은 단위로 나누어서 단위별로 학습하는 개념이 나왔고 이러한 단위를 **미니 배치**라고 한다"
   ]
  },
  {
   "cell_type": "markdown",
   "id": "d749aea3-3bde-41da-845e-2d004041d398",
   "metadata": {},
   "source": [
    "전체 데이터를 100개 미니 배치 단위를 10개라고 하면 데이터를 10개씩 가져가서 비용을 계산하고 경사 하강법을 수행한다. 또 다음 미니 배치(10개)를 가져가서 경사하강법을 수행한다. 이렇게 총 10번, 전체 데이터 100개에 대해 1회 수행하면 1 epoch가 끝나게 된다."
   ]
  },
  {
   "cell_type": "markdown",
   "id": "1378a9e0-bdd7-4063-836f-71a42fd177b6",
   "metadata": {},
   "source": [
    "- **배치 경사 하강법**\n",
    "\n",
    "전체 데이터에 대해서 한 번에 경사 하강법을 수행하는 방법으로, 전체 데이터를 한번에 사용하기 때문에 최적값에 수렴하는 과정이 매우 안정적이지만 계산량이 많이 소요된다\n",
    "\n",
    "- **미니 배치 경사 하강법**\n",
    "\n",
    "미니 배치 단위로 경사 하강법을 수행하는 방법으로, 데이터의 일부만으로 수행하기 때문에 최적값에 수렴하는 과정이 배치 경사 하강법에 비해 불안정하지만 훈련 속도가 빠르다\n"
   ]
  },
  {
   "cell_type": "markdown",
   "id": "a47dcbd3-1bb3-452e-ad25-3af818aa3dd2",
   "metadata": {},
   "source": [
    "배치의 크기는 보통 2의 제곱수를 사용하는데 그 이유는 CPU와 GPU의 메모리가 2의 배수이기 때문에 배치의 크기가 2의 제곱수일 경우 데이터 송수신의 효율을 높일 수 있다."
   ]
  },
  {
   "cell_type": "markdown",
   "id": "9a474450-e3a3-4662-a803-cb29febdca23",
   "metadata": {},
   "source": [
    "## 이터레이션"
   ]
  },
  {
   "cell_type": "markdown",
   "id": "a5427050-ccd6-4ec7-b86d-462ad4fe8476",
   "metadata": {},
   "source": [
    "이터레이션은 1 epoch를 수행할 때 가중치가 업데이트되는 횟수이다.\n",
    "위의 예로 전체 데이터가 100개이고 배치 크기가 10이라고 가정하면 이터레이션은 10이다."
   ]
  },
  {
   "cell_type": "markdown",
   "id": "6f9532c3-ebf0-40ad-9023-ed0c00b784ba",
   "metadata": {},
   "source": [
    "## 데이터 로드"
   ]
  },
  {
   "cell_type": "markdown",
   "id": "952b267d-7cad-4c24-accf-f1ec1f889adc",
   "metadata": {},
   "source": [
    "파이토치에서는 데이터를 쉽게 다룰 수 있는 도구로 Dataset, DataLoader를 제공한다.\n",
    "이를 사용해서 미니 배치 학습, 데이터 셔플, 병렬 처리까지 수행 가능하다.\n",
    "기본적인 사용 방법은 Dataset을 정의하고 이를 DataLoader에 전달하는 것이다.\n",
    "\n",
    "Dataset을 커스텀해서 만들 수도 있고 텐서를 입력받아 Dataset의 형태로 바꾸어 사용할 수도 있다."
   ]
  },
  {
   "cell_type": "code",
   "execution_count": 37,
   "id": "584660cf-19b3-4d31-b361-97b1c9a670b6",
   "metadata": {},
   "outputs": [],
   "source": [
    "import torch\n",
    "import torch.nn as nn\n",
    "import torch.nn.functional as F"
   ]
  },
  {
   "cell_type": "code",
   "execution_count": 38,
   "id": "066b67e9-8458-45c8-a9ee-429d56893009",
   "metadata": {},
   "outputs": [],
   "source": [
    "from torch.utils.data import TensorDataset # Tensor -> Dataset\n",
    "from torch.utils.data import DataLoader"
   ]
  },
  {
   "cell_type": "markdown",
   "id": "1cdc5961-f2ec-49a0-b40f-4275d20a10d7",
   "metadata": {},
   "source": [
    "TensorDataset은 기본적으로 Tensor를 입력값으로 받는다."
   ]
  },
  {
   "cell_type": "code",
   "execution_count": 39,
   "id": "935dcaa1-e3a9-4bb7-8145-dd0189c40b36",
   "metadata": {},
   "outputs": [],
   "source": [
    "x_train  =  torch.FloatTensor([[73,  80,  75], \n",
    "                               [93,  88,  93], \n",
    "                               [89,  91,  90], \n",
    "                               [96,  98,  100],   \n",
    "                               [73,  66,  70]])  \n",
    "y_train  =  torch.FloatTensor([[152],  [185],  [180],  [196],  [142]])"
   ]
  },
  {
   "cell_type": "code",
   "execution_count": 40,
   "id": "f294bf57-e1e3-4035-842b-2e3e85697663",
   "metadata": {},
   "outputs": [],
   "source": [
    "dataset = TensorDataset(x_train, y_train)"
   ]
  },
  {
   "cell_type": "markdown",
   "id": "8c3f38fe-bb67-4f7f-b23b-e05f946cbf65",
   "metadata": {},
   "source": [
    "정의한 Tensor를 TensorDataset의 입력으로 사용해서 dataset 변수에 저장한다."
   ]
  },
  {
   "cell_type": "code",
   "execution_count": 41,
   "id": "7ce967b2-00ed-4595-b869-68921df4dfe9",
   "metadata": {},
   "outputs": [
    {
     "data": {
      "text/plain": [
       "<torch.utils.data.dataset.TensorDataset at 0x2439dc5f310>"
      ]
     },
     "execution_count": 41,
     "metadata": {},
     "output_type": "execute_result"
    }
   ],
   "source": [
    "dataset"
   ]
  },
  {
   "cell_type": "markdown",
   "id": "7645aa62-a773-488a-a80a-0824f0705369",
   "metadata": {},
   "source": [
    "파이토치 데이터셋을 만든 후에는 데이터로더를 사용할 수 있다. 데이터로더는 기본적으로 데이터셋, 미니 배치의 크기 2개의 인자를 입력받는다. 이 때 미니 배치의 크기는 2의 배수를 통상적으로 사용한다. 이 외에도 많이 사용되는 인자 shuffle이 있는데 이를 True로 설정하면 Epoch마다 데이터셋을 섞어서 데이터를 학습할 수 있다"
   ]
  },
  {
   "cell_type": "code",
   "execution_count": 42,
   "id": "c4f5b83f-0660-40eb-9c1b-c02a0ef49914",
   "metadata": {},
   "outputs": [],
   "source": [
    "dataloader = DataLoader(dataset, batch_size=2, shuffle=True)"
   ]
  },
  {
   "cell_type": "code",
   "execution_count": 43,
   "id": "b2c5b3c8-de73-42bd-ac0b-eab6c350b2bc",
   "metadata": {},
   "outputs": [],
   "source": [
    "model = nn.Linear(3, 1)\n",
    "optimizer = torch.optim.SGD(model.parameters(), lr=1e-5)"
   ]
  },
  {
   "cell_type": "code",
   "execution_count": 44,
   "id": "e50ebb4b-3da8-4409-a41c-e9ebdd70f4f1",
   "metadata": {},
   "outputs": [
    {
     "name": "stdout",
     "output_type": "stream",
     "text": [
      "Epoch:    1/EPOCHS | Batch: 1/3 | Cost: 40394.078125\n",
      "Epoch:    1/EPOCHS | Batch: 2/3 | Cost: 10625.849609375\n",
      "Epoch:    1/EPOCHS | Batch: 3/3 | Cost: 5451.56982421875\n",
      "Epoch:    2/EPOCHS | Batch: 1/3 | Cost: 937.502685546875\n",
      "Epoch:    2/EPOCHS | Batch: 2/3 | Cost: 265.94476318359375\n",
      "Epoch:    2/EPOCHS | Batch: 3/3 | Cost: 244.42251586914062\n",
      "Epoch:    3/EPOCHS | Batch: 1/3 | Cost: 3.5231642723083496\n",
      "Epoch:    3/EPOCHS | Batch: 2/3 | Cost: 55.838958740234375\n",
      "Epoch:    3/EPOCHS | Batch: 3/3 | Cost: 2.3711564540863037\n",
      "Epoch:    4/EPOCHS | Batch: 1/3 | Cost: 21.61503791809082\n",
      "Epoch:    4/EPOCHS | Batch: 2/3 | Cost: 1.5361409187316895\n",
      "Epoch:    4/EPOCHS | Batch: 3/3 | Cost: 23.620941162109375\n",
      "Epoch:    5/EPOCHS | Batch: 1/3 | Cost: 12.848388671875\n",
      "Epoch:    5/EPOCHS | Batch: 2/3 | Cost: 17.57853126525879\n",
      "Epoch:    5/EPOCHS | Batch: 3/3 | Cost: 18.382184982299805\n",
      "Epoch:    6/EPOCHS | Batch: 1/3 | Cost: 11.40179443359375\n",
      "Epoch:    6/EPOCHS | Batch: 2/3 | Cost: 20.960948944091797\n",
      "Epoch:    6/EPOCHS | Batch: 3/3 | Cost: 28.93952751159668\n",
      "Epoch:    7/EPOCHS | Batch: 1/3 | Cost: 14.807865142822266\n",
      "Epoch:    7/EPOCHS | Batch: 2/3 | Cost: 2.5992636680603027\n",
      "Epoch:    7/EPOCHS | Batch: 3/3 | Cost: 33.501407623291016\n",
      "Epoch:    8/EPOCHS | Batch: 1/3 | Cost: 16.869853973388672\n",
      "Epoch:    8/EPOCHS | Batch: 2/3 | Cost: 24.52892303466797\n",
      "Epoch:    8/EPOCHS | Batch: 3/3 | Cost: 10.461181640625\n",
      "Epoch:    9/EPOCHS | Batch: 1/3 | Cost: 8.686996459960938\n",
      "Epoch:    9/EPOCHS | Batch: 2/3 | Cost: 30.927486419677734\n",
      "Epoch:    9/EPOCHS | Batch: 3/3 | Cost: 7.897372722625732\n",
      "Epoch:   10/EPOCHS | Batch: 1/3 | Cost: 7.612912178039551\n",
      "Epoch:   10/EPOCHS | Batch: 2/3 | Cost: 18.703393936157227\n",
      "Epoch:   10/EPOCHS | Batch: 3/3 | Cost: 16.064273834228516\n",
      "Epoch:   11/EPOCHS | Batch: 1/3 | Cost: 12.797728538513184\n",
      "Epoch:   11/EPOCHS | Batch: 2/3 | Cost: 8.214132308959961\n",
      "Epoch:   11/EPOCHS | Batch: 3/3 | Cost: 23.461618423461914\n",
      "Epoch:   12/EPOCHS | Batch: 1/3 | Cost: 16.458553314208984\n",
      "Epoch:   12/EPOCHS | Batch: 2/3 | Cost: 8.302062034606934\n",
      "Epoch:   12/EPOCHS | Batch: 3/3 | Cost: 18.30076026916504\n",
      "Epoch:   13/EPOCHS | Batch: 1/3 | Cost: 3.9770307540893555\n",
      "Epoch:   13/EPOCHS | Batch: 2/3 | Cost: 16.020334243774414\n",
      "Epoch:   13/EPOCHS | Batch: 3/3 | Cost: 29.2219295501709\n",
      "Epoch:   14/EPOCHS | Batch: 1/3 | Cost: 13.251047134399414\n",
      "Epoch:   14/EPOCHS | Batch: 2/3 | Cost: 15.146644592285156\n",
      "Epoch:   14/EPOCHS | Batch: 3/3 | Cost: 6.90296745300293\n",
      "Epoch:   15/EPOCHS | Batch: 1/3 | Cost: 20.339725494384766\n",
      "Epoch:   15/EPOCHS | Batch: 2/3 | Cost: 8.538605690002441\n",
      "Epoch:   15/EPOCHS | Batch: 3/3 | Cost: 4.507004261016846\n",
      "Epoch:   16/EPOCHS | Batch: 1/3 | Cost: 9.943769454956055\n",
      "Epoch:   16/EPOCHS | Batch: 2/3 | Cost: 13.766290664672852\n",
      "Epoch:   16/EPOCHS | Batch: 3/3 | Cost: 19.031166076660156\n",
      "Epoch:   17/EPOCHS | Batch: 1/3 | Cost: 29.411785125732422\n",
      "Epoch:   17/EPOCHS | Batch: 2/3 | Cost: 15.633769035339355\n",
      "Epoch:   17/EPOCHS | Batch: 3/3 | Cost: 1.3668255805969238\n",
      "Epoch:   18/EPOCHS | Batch: 1/3 | Cost: 29.22750473022461\n",
      "Epoch:   18/EPOCHS | Batch: 2/3 | Cost: 8.651357650756836\n",
      "Epoch:   18/EPOCHS | Batch: 3/3 | Cost: 12.546249389648438\n",
      "Epoch:   19/EPOCHS | Batch: 1/3 | Cost: 2.676948308944702\n",
      "Epoch:   19/EPOCHS | Batch: 2/3 | Cost: 23.020639419555664\n",
      "Epoch:   19/EPOCHS | Batch: 3/3 | Cost: 20.121801376342773\n",
      "Epoch:   20/EPOCHS | Batch: 1/3 | Cost: 18.024099349975586\n",
      "Epoch:   20/EPOCHS | Batch: 2/3 | Cost: 9.444228172302246\n",
      "Epoch:   20/EPOCHS | Batch: 3/3 | Cost: 23.168087005615234\n"
     ]
    }
   ],
   "source": [
    "EPOCHS = 20\n",
    "for epoch in range(1, EPOCHS+1):\n",
    "    for batch_idx, samples in enumerate(dataloader):\n",
    "        x_train, y_train = samples\n",
    "        pred = model(x_train)\n",
    "        \n",
    "        cost = F.mse_loss(pred, y_train)\n",
    "        \n",
    "        optimizer.zero_grad()\n",
    "        cost.backward()\n",
    "        optimizer.step()\n",
    "        \n",
    "        print(f\"Epoch: {epoch:4d}/EPOCHS | Batch: {batch_idx+1}/{len(dataloader)} | Cost: {cost}\")"
   ]
  },
  {
   "cell_type": "markdown",
   "id": "dcc71430-003e-41e4-b116-680321d5d9ff",
   "metadata": {},
   "source": [
    "배치마다 차이가 있지만 기본적으로 epoch가 증가함에 따라 cost값이 감소하고 있다."
   ]
  },
  {
   "cell_type": "code",
   "execution_count": 46,
   "id": "e7d56f1b-10ab-43bf-8341-62c5d3d43a86",
   "metadata": {},
   "outputs": [
    {
     "data": {
      "text/plain": [
       "140.9924774169922"
      ]
     },
     "execution_count": 46,
     "metadata": {},
     "output_type": "execute_result"
    }
   ],
   "source": [
    "new_var = torch.FloatTensor([67, 55, 94])\n",
    "y_pred = model(new_var)\n",
    "y_pred.item()"
   ]
  },
  {
   "cell_type": "markdown",
   "id": "83d4d2d1-aae6-4439-8be7-45b481196b3b",
   "metadata": {},
   "source": [
    "임의의 데이터 샘플 1개를 넣어서 나오는 예측값을 확인해볼 수 있다."
   ]
  },
  {
   "cell_type": "markdown",
   "id": "85553ad9-be80-4908-8260-e0c9077002d8",
   "metadata": {},
   "source": [
    "# 커스텀 데이터셋"
   ]
  },
  {
   "cell_type": "markdown",
   "id": "38e25d82-c813-4b11-b22a-3c4b4d24abd4",
   "metadata": {},
   "source": [
    "직접 데이터셋을 만드는 경우 Dataset을 상속받아서 수행할 수 있다. Dataset은 파이토치에서 데이터셋을 제공하는 추상 클래스로 이를 상속받아 아래의 메소드들을 오버라이드하여 커스텀 데이터셋을 만들 수 있다.\n",
    "\n",
    "커스텀 데이터셋을 만들 때 가장 기본적인 뼈대는 다음과 같고 여기서 가장 기본적인 define은 3개이다.\n",
    "\n",
    "```python\n",
    "class CustomDataset(torch.utils.data.Dataset):\n",
    "    def __init__(self):\n",
    "        \n",
    "    def __len__(self):\n",
    "        \n",
    "    def __getitem__(self, idx):\n",
    "```"
   ]
  }
 ],
 "metadata": {
  "kernelspec": {
   "display_name": "Python 3 (ipykernel)",
   "language": "python",
   "name": "python3"
  },
  "language_info": {
   "codemirror_mode": {
    "name": "ipython",
    "version": 3
   },
   "file_extension": ".py",
   "mimetype": "text/x-python",
   "name": "python",
   "nbconvert_exporter": "python",
   "pygments_lexer": "ipython3",
   "version": "3.10.9"
  },
  "toc-autonumbering": true
 },
 "nbformat": 4,
 "nbformat_minor": 5
}
