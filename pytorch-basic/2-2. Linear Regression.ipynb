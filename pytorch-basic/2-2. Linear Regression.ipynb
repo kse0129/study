{
 "cells": [
  {
   "cell_type": "markdown",
   "id": "ca63b451-c5f6-484a-a8a8-e3f5f34763b9",
   "metadata": {
    "tags": []
   },
   "source": [
    "# nn.Module로 구현하는 선형 회귀"
   ]
  },
  {
   "cell_type": "markdown",
   "id": "217ab380-6493-41e2-8f1a-f6cce29241c6",
   "metadata": {},
   "source": [
    "파이토치에서 이미 구현되어져 있는 함수들을 불러와서 선형 회귀 모델을 구현할 수 있다. 예를 들어 파이토치에서는 선형 회귀 모델이 nn.Linear()라는 함수로, 평균 제곱 오차가 nn.functional.mse_loss()라는 함수로 구현되어져 있다.\n",
    "\n",
    "```python\n",
    "import torch.nn as nn\n",
    "model = nn.Linear(input_dim, output_dim)\n",
    "\n",
    "import torch.nn.functional as F\n",
    "cost = F.mse_loss(prediction, y_train)\n",
    "```"
   ]
  },
  {
   "cell_type": "markdown",
   "id": "9380f710-38fe-45b6-8de9-dcf323bc9498",
   "metadata": {},
   "source": [
    "## 단순 선형 회귀 구현"
   ]
  },
  {
   "cell_type": "code",
   "execution_count": 3,
   "id": "4993f678-8566-42bf-a5f5-47bdd132437d",
   "metadata": {},
   "outputs": [],
   "source": [
    "import torch\n",
    "import torch.nn as nn\n",
    "import torch.nn.functional as F"
   ]
  },
  {
   "cell_type": "code",
   "execution_count": 4,
   "id": "08b005c0-ae9c-486e-9236-53e61e915e1c",
   "metadata": {},
   "outputs": [
    {
     "data": {
      "text/plain": [
       "<torch._C.Generator at 0x205feaad090>"
      ]
     },
     "execution_count": 4,
     "metadata": {},
     "output_type": "execute_result"
    }
   ],
   "source": [
    "torch.manual_seed(1)"
   ]
  },
  {
   "cell_type": "markdown",
   "id": "c7774834-5884-4e40-859d-c6dc9fb702a5",
   "metadata": {},
   "source": [
    "$ W = 2, b = 0 $ 임을 알고 데이터 선언"
   ]
  },
  {
   "cell_type": "code",
   "execution_count": 18,
   "id": "26254a7b-0fc2-4976-81b9-4632d36885e2",
   "metadata": {},
   "outputs": [],
   "source": [
    "x_train = torch.FloatTensor([[1], [2], [3]])\n",
    "y_train = torch.FloatTensor([[2], [4], [6]])"
   ]
  },
  {
   "cell_type": "markdown",
   "id": "c24e6335-c971-43fb-b84b-dacbc9dcebf9",
   "metadata": {},
   "source": [
    "선형 회귀 모델 구현\n",
    "- nn.Linear()는 입력의 차원과 출력의 차원을 인수로 받는다."
   ]
  },
  {
   "cell_type": "code",
   "execution_count": 19,
   "id": "d938dcfc-007d-4a5f-9184-195bc01599fd",
   "metadata": {},
   "outputs": [],
   "source": [
    "input_dim = 1\n",
    "output_dim = 1\n",
    "model = nn.Linear(input_dim, output_dim)"
   ]
  },
  {
   "cell_type": "code",
   "execution_count": 20,
   "id": "3fd1d809-2356-4e0e-9c71-a3cd7a247d4e",
   "metadata": {},
   "outputs": [
    {
     "data": {
      "text/plain": [
       "(torch.Size([3, 1]), torch.Size([3, 1]))"
      ]
     },
     "execution_count": 20,
     "metadata": {},
     "output_type": "execute_result"
    }
   ],
   "source": [
    "x_train.size(), y_train.size()"
   ]
  },
  {
   "cell_type": "markdown",
   "id": "e633e7a3-f480-41a1-bacc-0d4ba6f9726e",
   "metadata": {},
   "source": [
    "x_train, y_train 모두 1차원이므로 1을 각 인자로 설정한다. model에는 가중치 W와 편향 b가 저장되어 있고 이를 parameters() 함수를 사용해서 불러올 수 있다."
   ]
  },
  {
   "cell_type": "code",
   "execution_count": 21,
   "id": "88145063-d669-422c-9994-f0c927f3017d",
   "metadata": {},
   "outputs": [
    {
     "name": "stdout",
     "output_type": "stream",
     "text": [
      "[Parameter containing:\n",
      "tensor([[0.8742]], requires_grad=True), Parameter containing:\n",
      "tensor([0.3112], requires_grad=True)]\n"
     ]
    }
   ],
   "source": [
    "print(list(model.parameters()))"
   ]
  },
  {
   "cell_type": "markdown",
   "id": "27bd2157-6417-4a90-a2f9-a4288ec5cb80",
   "metadata": {},
   "source": [
    "첫번째 값이 가중치 W이고 두번째 값이 편향 b이다. 두 값 모두 랜덤한 값으로 초기화되어 있고 학습을 위해 requires_grad 인자가 True 값으로 설정되어있다."
   ]
  },
  {
   "cell_type": "code",
   "execution_count": 22,
   "id": "2a21d845-beb1-4927-8b20-3b19d69d7af6",
   "metadata": {},
   "outputs": [
    {
     "name": "stdout",
     "output_type": "stream",
     "text": [
      "[Parameter containing:\n",
      "tensor([[-0.2150, -0.3487, -0.0968],\n",
      "        [-0.2490, -0.1850,  0.0276]], requires_grad=True), Parameter containing:\n",
      "tensor([0.3442, 0.3138], requires_grad=True)]\n"
     ]
    }
   ],
   "source": [
    "print(list(nn.Linear(3, 2).parameters()))"
   ]
  },
  {
   "cell_type": "markdown",
   "id": "51d6658e-deab-4f57-bc0c-dab0a835199f",
   "metadata": {},
   "source": [
    "입출력 차원에 따라 가중치와 편향의 크기가 달라지는 것을 알 수 있다."
   ]
  },
  {
   "cell_type": "code",
   "execution_count": 23,
   "id": "0dcc1df9-81ef-44c7-abbc-b810cbbc0e6f",
   "metadata": {},
   "outputs": [],
   "source": [
    "optimizer = torch.optim.SGD(model.parameters(), lr=0.01)"
   ]
  },
  {
   "cell_type": "markdown",
   "id": "b3215c4d-2af2-4fbd-9dd6-655a90b84285",
   "metadata": {},
   "source": [
    "최적화 알고리즘(옵티마이저)를 정의한다. 앞에서는 직접 가중치와 편향을 리스트로 전달했지만 model의 parameters 함수로 전달할 수 있다. 사용하는 알고리즘은 SGD(경사하강법)이고 학습률은 0.01로 정의했다."
   ]
  },
  {
   "cell_type": "code",
   "execution_count": 24,
   "id": "39d60266-1950-489e-b755-3827a0dd3df2",
   "metadata": {},
   "outputs": [
    {
     "name": "stdout",
     "output_type": "stream",
     "text": [
      "epoch:  100/2000 | cost: 0.04066790\n",
      "epoch:  200/2000 | cost: 0.02513021\n",
      "epoch:  300/2000 | cost: 0.01552894\n",
      "epoch:  400/2000 | cost: 0.00959596\n",
      "epoch:  500/2000 | cost: 0.00592972\n",
      "epoch:  600/2000 | cost: 0.00366420\n",
      "epoch:  700/2000 | cost: 0.00226424\n",
      "epoch:  800/2000 | cost: 0.00139917\n",
      "epoch:  900/2000 | cost: 0.00086461\n",
      "epoch: 1000/2000 | cost: 0.00053427\n",
      "epoch: 1100/2000 | cost: 0.00033015\n",
      "epoch: 1200/2000 | cost: 0.00020401\n",
      "epoch: 1300/2000 | cost: 0.00012606\n",
      "epoch: 1400/2000 | cost: 0.00007790\n",
      "epoch: 1500/2000 | cost: 0.00004814\n",
      "epoch: 1600/2000 | cost: 0.00002975\n",
      "epoch: 1700/2000 | cost: 0.00001838\n",
      "epoch: 1800/2000 | cost: 0.00001136\n",
      "epoch: 1900/2000 | cost: 0.00000702\n",
      "epoch: 2000/2000 | cost: 0.00000434\n"
     ]
    }
   ],
   "source": [
    "EPOCHS = 2000\n",
    "for epoch in range(1, EPOCHS+1):\n",
    "    pred = model(x_train)\n",
    "    cost = nn.functional.mse_loss(pred, y_train)\n",
    "    \n",
    "    optimizer.zero_grad()\n",
    "    cost.backward()\n",
    "    optimizer.step()\n",
    "    \n",
    "    if epoch % 100 == 0:\n",
    "        print(f\"epoch: {epoch:4d}/{EPOCHS} | cost: {cost:.8f}\")"
   ]
  },
  {
   "cell_type": "code",
   "execution_count": 25,
   "id": "450bd6cf-7240-45e5-b31d-6b52e8bd7c36",
   "metadata": {},
   "outputs": [
    {
     "name": "stdout",
     "output_type": "stream",
     "text": [
      "input: 4.0, value: tensor([[7.9958]], grad_fn=<AddmmBackward0>)\n"
     ]
    }
   ],
   "source": [
    "new_var = torch.FloatTensor([[4.0]])\n",
    "pred_y = model(new_var)\n",
    "print(f\"input: {new_var.item()}, value: {pred_y}\")"
   ]
  },
  {
   "cell_type": "markdown",
   "id": "8e73db9c-cb47-4f80-ba1b-2b1eceb70df2",
   "metadata": {},
   "source": [
    "정답 값인 8에 거의 근접하고 있다"
   ]
  },
  {
   "cell_type": "code",
   "execution_count": 26,
   "id": "a8be5980-3ff6-4cea-93c2-27da99a50fc1",
   "metadata": {},
   "outputs": [
    {
     "name": "stdout",
     "output_type": "stream",
     "text": [
      "[Parameter containing:\n",
      "tensor([[1.9976]], requires_grad=True), Parameter containing:\n",
      "tensor([0.0055], requires_grad=True)]\n"
     ]
    }
   ],
   "source": [
    "print(list(model.parameters()))"
   ]
  },
  {
   "cell_type": "markdown",
   "id": "464db6fd-4bae-4119-888b-e2bf9b89f690",
   "metadata": {},
   "source": [
    "forward/backward 연산\n",
    "1. forward 연산\n",
    "    - 값 x로부터 예측된 y를 얻는 것\n",
    "    - 학습 전 x_train을 통해 예측값을 얻는 것\n",
    "    - 학습이 완료된 후 new_var를 통해 예측값을 얻는 것\n",
    "    \n",
    "2. backward 연산\n",
    "    - 학습 과정에서 비용 함수를 미분하여 기울기을 구하는 것\n",
    "    - cost.backward() 함수는 비용 함수로부터 기울기를 구하라는 의미로 backward 연산"
   ]
  },
  {
   "cell_type": "markdown",
   "id": "9ecf7819-377c-4627-8043-c4da3d0a8c2d",
   "metadata": {},
   "source": [
    "# 클래스로 파이토치 모델 구현"
   ]
  },
  {
   "cell_type": "code",
   "execution_count": null,
   "id": "5f2a5b75-ec52-4730-bf52-dfdea8a9e973",
   "metadata": {},
   "outputs": [],
   "source": []
  },
  {
   "cell_type": "markdown",
   "id": "bd7cbd15-ae3f-4738-964b-3751e328d2a8",
   "metadata": {},
   "source": [
    "# 미니 배치와 데이터 로드"
   ]
  },
  {
   "cell_type": "code",
   "execution_count": null,
   "id": "6f46caeb-1e98-48e7-be3d-9462403f5972",
   "metadata": {},
   "outputs": [],
   "source": []
  },
  {
   "cell_type": "markdown",
   "id": "85553ad9-be80-4908-8260-e0c9077002d8",
   "metadata": {},
   "source": [
    "# 커스텀 데이터셋"
   ]
  },
  {
   "cell_type": "code",
   "execution_count": null,
   "id": "9b371771-f78f-4a27-9e17-a506fd8b792d",
   "metadata": {},
   "outputs": [],
   "source": []
  }
 ],
 "metadata": {
  "kernelspec": {
   "display_name": "Python 3 (ipykernel)",
   "language": "python",
   "name": "python3"
  },
  "language_info": {
   "codemirror_mode": {
    "name": "ipython",
    "version": 3
   },
   "file_extension": ".py",
   "mimetype": "text/x-python",
   "name": "python",
   "nbconvert_exporter": "python",
   "pygments_lexer": "ipython3",
   "version": "3.10.9"
  }
 },
 "nbformat": 4,
 "nbformat_minor": 5
}
